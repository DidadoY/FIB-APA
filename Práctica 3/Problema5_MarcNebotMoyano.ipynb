{
 "cells": [
  {
   "cell_type": "markdown",
   "metadata": {},
   "source": [
    "## Problema 5 - Problemas de corazón\n",
    "\n",
    "#### Marc Nebot Moyano"
   ]
  },
  {
   "cell_type": "markdown",
   "metadata": {},
   "source": [
    "#### Librerías necesarias"
   ]
  },
  {
   "cell_type": "code",
   "execution_count": 808,
   "metadata": {},
   "outputs": [],
   "source": [
    "from apafib import load_heart_failure\n",
    "import matplotlib.pyplot as plt\n",
    "from sklearn.preprocessing import MinMaxScaler\n",
    "import numpy as np\n",
    "from sklearn.linear_model import LogisticRegression\n",
    "import seaborn as sns\n",
    "from sklearn.model_selection import train_test_split, cross_val_score\n",
    "from sklearn.naive_bayes import GaussianNB\n",
    "from sklearn.model_selection import GridSearchCV\n",
    "import pandas as pd\n",
    "from sklearn.metrics import  ConfusionMatrixDisplay,\\\n",
    "                  classification_report,  RocCurveDisplay, PrecisionRecallDisplay,\\\n",
    "                    accuracy_score, f1_score, precision_score, recall_score\n",
    "from sklearn.discriminant_analysis import LinearDiscriminantAnalysis\n",
    "from IPython.display import display, HTML\n",
    "show_html = lambda html: display(HTML(html))"
   ]
  },
  {
   "cell_type": "markdown",
   "metadata": {},
   "source": [
    "#### Apartado a)"
   ]
  },
  {
   "cell_type": "markdown",
   "metadata": {},
   "source": [
    "##### Visualización de datos"
   ]
  },
  {
   "cell_type": "markdown",
   "metadata": {},
   "source": [
    "Primeramente, haremos una observación del dataset del que disponemos"
   ]
  },
  {
   "cell_type": "code",
   "execution_count": 809,
   "metadata": {},
   "outputs": [
    {
     "data": {
      "text/html": [
       "<div>\n",
       "<style scoped>\n",
       "    .dataframe tbody tr th:only-of-type {\n",
       "        vertical-align: middle;\n",
       "    }\n",
       "\n",
       "    .dataframe tbody tr th {\n",
       "        vertical-align: top;\n",
       "    }\n",
       "\n",
       "    .dataframe thead th {\n",
       "        text-align: right;\n",
       "    }\n",
       "</style>\n",
       "<table border=\"1\" class=\"dataframe\">\n",
       "  <thead>\n",
       "    <tr style=\"text-align: right;\">\n",
       "      <th></th>\n",
       "      <th>age</th>\n",
       "      <th>anaemia</th>\n",
       "      <th>creatinine_phosphokinase</th>\n",
       "      <th>diabetes</th>\n",
       "      <th>ejection_fraction</th>\n",
       "      <th>high_blood_pressure</th>\n",
       "      <th>platelets</th>\n",
       "      <th>serum_creatinine</th>\n",
       "      <th>serum_sodium</th>\n",
       "      <th>sex</th>\n",
       "      <th>smoking</th>\n",
       "      <th>time</th>\n",
       "      <th>DEATH_EVENT</th>\n",
       "    </tr>\n",
       "  </thead>\n",
       "  <tbody>\n",
       "    <tr>\n",
       "      <th>0</th>\n",
       "      <td>75.0</td>\n",
       "      <td>0</td>\n",
       "      <td>582</td>\n",
       "      <td>0</td>\n",
       "      <td>20</td>\n",
       "      <td>1</td>\n",
       "      <td>265000.00</td>\n",
       "      <td>1.9</td>\n",
       "      <td>130</td>\n",
       "      <td>1</td>\n",
       "      <td>0</td>\n",
       "      <td>4</td>\n",
       "      <td>1</td>\n",
       "    </tr>\n",
       "    <tr>\n",
       "      <th>1</th>\n",
       "      <td>55.0</td>\n",
       "      <td>0</td>\n",
       "      <td>7861</td>\n",
       "      <td>0</td>\n",
       "      <td>38</td>\n",
       "      <td>0</td>\n",
       "      <td>263358.03</td>\n",
       "      <td>1.1</td>\n",
       "      <td>136</td>\n",
       "      <td>1</td>\n",
       "      <td>0</td>\n",
       "      <td>6</td>\n",
       "      <td>1</td>\n",
       "    </tr>\n",
       "    <tr>\n",
       "      <th>2</th>\n",
       "      <td>65.0</td>\n",
       "      <td>0</td>\n",
       "      <td>146</td>\n",
       "      <td>0</td>\n",
       "      <td>20</td>\n",
       "      <td>0</td>\n",
       "      <td>162000.00</td>\n",
       "      <td>1.3</td>\n",
       "      <td>129</td>\n",
       "      <td>1</td>\n",
       "      <td>1</td>\n",
       "      <td>7</td>\n",
       "      <td>1</td>\n",
       "    </tr>\n",
       "    <tr>\n",
       "      <th>3</th>\n",
       "      <td>50.0</td>\n",
       "      <td>1</td>\n",
       "      <td>111</td>\n",
       "      <td>0</td>\n",
       "      <td>20</td>\n",
       "      <td>0</td>\n",
       "      <td>210000.00</td>\n",
       "      <td>1.9</td>\n",
       "      <td>137</td>\n",
       "      <td>1</td>\n",
       "      <td>0</td>\n",
       "      <td>7</td>\n",
       "      <td>1</td>\n",
       "    </tr>\n",
       "    <tr>\n",
       "      <th>4</th>\n",
       "      <td>65.0</td>\n",
       "      <td>1</td>\n",
       "      <td>160</td>\n",
       "      <td>1</td>\n",
       "      <td>20</td>\n",
       "      <td>0</td>\n",
       "      <td>327000.00</td>\n",
       "      <td>2.7</td>\n",
       "      <td>116</td>\n",
       "      <td>0</td>\n",
       "      <td>0</td>\n",
       "      <td>8</td>\n",
       "      <td>1</td>\n",
       "    </tr>\n",
       "    <tr>\n",
       "      <th>...</th>\n",
       "      <td>...</td>\n",
       "      <td>...</td>\n",
       "      <td>...</td>\n",
       "      <td>...</td>\n",
       "      <td>...</td>\n",
       "      <td>...</td>\n",
       "      <td>...</td>\n",
       "      <td>...</td>\n",
       "      <td>...</td>\n",
       "      <td>...</td>\n",
       "      <td>...</td>\n",
       "      <td>...</td>\n",
       "      <td>...</td>\n",
       "    </tr>\n",
       "    <tr>\n",
       "      <th>294</th>\n",
       "      <td>62.0</td>\n",
       "      <td>0</td>\n",
       "      <td>61</td>\n",
       "      <td>1</td>\n",
       "      <td>38</td>\n",
       "      <td>1</td>\n",
       "      <td>155000.00</td>\n",
       "      <td>1.1</td>\n",
       "      <td>143</td>\n",
       "      <td>1</td>\n",
       "      <td>1</td>\n",
       "      <td>270</td>\n",
       "      <td>0</td>\n",
       "    </tr>\n",
       "    <tr>\n",
       "      <th>295</th>\n",
       "      <td>55.0</td>\n",
       "      <td>0</td>\n",
       "      <td>1820</td>\n",
       "      <td>0</td>\n",
       "      <td>38</td>\n",
       "      <td>0</td>\n",
       "      <td>270000.00</td>\n",
       "      <td>1.2</td>\n",
       "      <td>139</td>\n",
       "      <td>0</td>\n",
       "      <td>0</td>\n",
       "      <td>271</td>\n",
       "      <td>0</td>\n",
       "    </tr>\n",
       "    <tr>\n",
       "      <th>296</th>\n",
       "      <td>45.0</td>\n",
       "      <td>0</td>\n",
       "      <td>2060</td>\n",
       "      <td>1</td>\n",
       "      <td>60</td>\n",
       "      <td>0</td>\n",
       "      <td>742000.00</td>\n",
       "      <td>0.8</td>\n",
       "      <td>138</td>\n",
       "      <td>0</td>\n",
       "      <td>0</td>\n",
       "      <td>278</td>\n",
       "      <td>0</td>\n",
       "    </tr>\n",
       "    <tr>\n",
       "      <th>297</th>\n",
       "      <td>45.0</td>\n",
       "      <td>0</td>\n",
       "      <td>2413</td>\n",
       "      <td>0</td>\n",
       "      <td>38</td>\n",
       "      <td>0</td>\n",
       "      <td>140000.00</td>\n",
       "      <td>1.4</td>\n",
       "      <td>140</td>\n",
       "      <td>1</td>\n",
       "      <td>1</td>\n",
       "      <td>280</td>\n",
       "      <td>0</td>\n",
       "    </tr>\n",
       "    <tr>\n",
       "      <th>298</th>\n",
       "      <td>50.0</td>\n",
       "      <td>0</td>\n",
       "      <td>196</td>\n",
       "      <td>0</td>\n",
       "      <td>45</td>\n",
       "      <td>0</td>\n",
       "      <td>395000.00</td>\n",
       "      <td>1.6</td>\n",
       "      <td>136</td>\n",
       "      <td>1</td>\n",
       "      <td>1</td>\n",
       "      <td>285</td>\n",
       "      <td>0</td>\n",
       "    </tr>\n",
       "  </tbody>\n",
       "</table>\n",
       "<p>299 rows × 13 columns</p>\n",
       "</div>"
      ],
      "text/plain": [
       "      age  anaemia  creatinine_phosphokinase  diabetes  ejection_fraction  \\\n",
       "0    75.0        0                       582         0                 20   \n",
       "1    55.0        0                      7861         0                 38   \n",
       "2    65.0        0                       146         0                 20   \n",
       "3    50.0        1                       111         0                 20   \n",
       "4    65.0        1                       160         1                 20   \n",
       "..    ...      ...                       ...       ...                ...   \n",
       "294  62.0        0                        61         1                 38   \n",
       "295  55.0        0                      1820         0                 38   \n",
       "296  45.0        0                      2060         1                 60   \n",
       "297  45.0        0                      2413         0                 38   \n",
       "298  50.0        0                       196         0                 45   \n",
       "\n",
       "     high_blood_pressure  platelets  serum_creatinine  serum_sodium  sex  \\\n",
       "0                      1  265000.00               1.9           130    1   \n",
       "1                      0  263358.03               1.1           136    1   \n",
       "2                      0  162000.00               1.3           129    1   \n",
       "3                      0  210000.00               1.9           137    1   \n",
       "4                      0  327000.00               2.7           116    0   \n",
       "..                   ...        ...               ...           ...  ...   \n",
       "294                    1  155000.00               1.1           143    1   \n",
       "295                    0  270000.00               1.2           139    0   \n",
       "296                    0  742000.00               0.8           138    0   \n",
       "297                    0  140000.00               1.4           140    1   \n",
       "298                    0  395000.00               1.6           136    1   \n",
       "\n",
       "     smoking  time  DEATH_EVENT  \n",
       "0          0     4            1  \n",
       "1          0     6            1  \n",
       "2          1     7            1  \n",
       "3          0     7            1  \n",
       "4          0     8            1  \n",
       "..       ...   ...          ...  \n",
       "294        1   270            0  \n",
       "295        0   271            0  \n",
       "296        0   278            0  \n",
       "297        1   280            0  \n",
       "298        1   285            0  \n",
       "\n",
       "[299 rows x 13 columns]"
      ]
     },
     "execution_count": 809,
     "metadata": {},
     "output_type": "execute_result"
    }
   ],
   "source": [
    "heart_failure_data = load_heart_failure()\n",
    "heart_failure_data"
   ]
  },
  {
   "cell_type": "code",
   "execution_count": 810,
   "metadata": {},
   "outputs": [
    {
     "data": {
      "text/plain": [
       "(299, 13)"
      ]
     },
     "execution_count": 810,
     "metadata": {},
     "output_type": "execute_result"
    }
   ],
   "source": [
    "heart_failure_data.shape"
   ]
  },
  {
   "cell_type": "code",
   "execution_count": 811,
   "metadata": {},
   "outputs": [
    {
     "data": {
      "text/html": [
       "<div>\n",
       "<style scoped>\n",
       "    .dataframe tbody tr th:only-of-type {\n",
       "        vertical-align: middle;\n",
       "    }\n",
       "\n",
       "    .dataframe tbody tr th {\n",
       "        vertical-align: top;\n",
       "    }\n",
       "\n",
       "    .dataframe thead th {\n",
       "        text-align: right;\n",
       "    }\n",
       "</style>\n",
       "<table border=\"1\" class=\"dataframe\">\n",
       "  <thead>\n",
       "    <tr style=\"text-align: right;\">\n",
       "      <th></th>\n",
       "      <th>age</th>\n",
       "      <th>anaemia</th>\n",
       "      <th>creatinine_phosphokinase</th>\n",
       "      <th>diabetes</th>\n",
       "      <th>ejection_fraction</th>\n",
       "      <th>high_blood_pressure</th>\n",
       "      <th>platelets</th>\n",
       "      <th>serum_creatinine</th>\n",
       "      <th>serum_sodium</th>\n",
       "      <th>sex</th>\n",
       "      <th>smoking</th>\n",
       "      <th>time</th>\n",
       "      <th>DEATH_EVENT</th>\n",
       "    </tr>\n",
       "  </thead>\n",
       "  <tbody>\n",
       "    <tr>\n",
       "      <th>count</th>\n",
       "      <td>299.000000</td>\n",
       "      <td>299.000000</td>\n",
       "      <td>299.000000</td>\n",
       "      <td>299.000000</td>\n",
       "      <td>299.000000</td>\n",
       "      <td>299.000000</td>\n",
       "      <td>299.000000</td>\n",
       "      <td>299.00000</td>\n",
       "      <td>299.000000</td>\n",
       "      <td>299.000000</td>\n",
       "      <td>299.00000</td>\n",
       "      <td>299.000000</td>\n",
       "      <td>299.00000</td>\n",
       "    </tr>\n",
       "    <tr>\n",
       "      <th>mean</th>\n",
       "      <td>60.833893</td>\n",
       "      <td>0.431438</td>\n",
       "      <td>581.839465</td>\n",
       "      <td>0.418060</td>\n",
       "      <td>38.083612</td>\n",
       "      <td>0.351171</td>\n",
       "      <td>263358.029264</td>\n",
       "      <td>1.39388</td>\n",
       "      <td>136.625418</td>\n",
       "      <td>0.648829</td>\n",
       "      <td>0.32107</td>\n",
       "      <td>130.260870</td>\n",
       "      <td>0.32107</td>\n",
       "    </tr>\n",
       "    <tr>\n",
       "      <th>std</th>\n",
       "      <td>11.894809</td>\n",
       "      <td>0.496107</td>\n",
       "      <td>970.287881</td>\n",
       "      <td>0.494067</td>\n",
       "      <td>11.834841</td>\n",
       "      <td>0.478136</td>\n",
       "      <td>97804.236869</td>\n",
       "      <td>1.03451</td>\n",
       "      <td>4.412477</td>\n",
       "      <td>0.478136</td>\n",
       "      <td>0.46767</td>\n",
       "      <td>77.614208</td>\n",
       "      <td>0.46767</td>\n",
       "    </tr>\n",
       "    <tr>\n",
       "      <th>min</th>\n",
       "      <td>40.000000</td>\n",
       "      <td>0.000000</td>\n",
       "      <td>23.000000</td>\n",
       "      <td>0.000000</td>\n",
       "      <td>14.000000</td>\n",
       "      <td>0.000000</td>\n",
       "      <td>25100.000000</td>\n",
       "      <td>0.50000</td>\n",
       "      <td>113.000000</td>\n",
       "      <td>0.000000</td>\n",
       "      <td>0.00000</td>\n",
       "      <td>4.000000</td>\n",
       "      <td>0.00000</td>\n",
       "    </tr>\n",
       "    <tr>\n",
       "      <th>25%</th>\n",
       "      <td>51.000000</td>\n",
       "      <td>0.000000</td>\n",
       "      <td>116.500000</td>\n",
       "      <td>0.000000</td>\n",
       "      <td>30.000000</td>\n",
       "      <td>0.000000</td>\n",
       "      <td>212500.000000</td>\n",
       "      <td>0.90000</td>\n",
       "      <td>134.000000</td>\n",
       "      <td>0.000000</td>\n",
       "      <td>0.00000</td>\n",
       "      <td>73.000000</td>\n",
       "      <td>0.00000</td>\n",
       "    </tr>\n",
       "    <tr>\n",
       "      <th>50%</th>\n",
       "      <td>60.000000</td>\n",
       "      <td>0.000000</td>\n",
       "      <td>250.000000</td>\n",
       "      <td>0.000000</td>\n",
       "      <td>38.000000</td>\n",
       "      <td>0.000000</td>\n",
       "      <td>262000.000000</td>\n",
       "      <td>1.10000</td>\n",
       "      <td>137.000000</td>\n",
       "      <td>1.000000</td>\n",
       "      <td>0.00000</td>\n",
       "      <td>115.000000</td>\n",
       "      <td>0.00000</td>\n",
       "    </tr>\n",
       "    <tr>\n",
       "      <th>75%</th>\n",
       "      <td>70.000000</td>\n",
       "      <td>1.000000</td>\n",
       "      <td>582.000000</td>\n",
       "      <td>1.000000</td>\n",
       "      <td>45.000000</td>\n",
       "      <td>1.000000</td>\n",
       "      <td>303500.000000</td>\n",
       "      <td>1.40000</td>\n",
       "      <td>140.000000</td>\n",
       "      <td>1.000000</td>\n",
       "      <td>1.00000</td>\n",
       "      <td>203.000000</td>\n",
       "      <td>1.00000</td>\n",
       "    </tr>\n",
       "    <tr>\n",
       "      <th>max</th>\n",
       "      <td>95.000000</td>\n",
       "      <td>1.000000</td>\n",
       "      <td>7861.000000</td>\n",
       "      <td>1.000000</td>\n",
       "      <td>80.000000</td>\n",
       "      <td>1.000000</td>\n",
       "      <td>850000.000000</td>\n",
       "      <td>9.40000</td>\n",
       "      <td>148.000000</td>\n",
       "      <td>1.000000</td>\n",
       "      <td>1.00000</td>\n",
       "      <td>285.000000</td>\n",
       "      <td>1.00000</td>\n",
       "    </tr>\n",
       "  </tbody>\n",
       "</table>\n",
       "</div>"
      ],
      "text/plain": [
       "              age     anaemia  creatinine_phosphokinase    diabetes  \\\n",
       "count  299.000000  299.000000                299.000000  299.000000   \n",
       "mean    60.833893    0.431438                581.839465    0.418060   \n",
       "std     11.894809    0.496107                970.287881    0.494067   \n",
       "min     40.000000    0.000000                 23.000000    0.000000   \n",
       "25%     51.000000    0.000000                116.500000    0.000000   \n",
       "50%     60.000000    0.000000                250.000000    0.000000   \n",
       "75%     70.000000    1.000000                582.000000    1.000000   \n",
       "max     95.000000    1.000000               7861.000000    1.000000   \n",
       "\n",
       "       ejection_fraction  high_blood_pressure      platelets  \\\n",
       "count         299.000000           299.000000     299.000000   \n",
       "mean           38.083612             0.351171  263358.029264   \n",
       "std            11.834841             0.478136   97804.236869   \n",
       "min            14.000000             0.000000   25100.000000   \n",
       "25%            30.000000             0.000000  212500.000000   \n",
       "50%            38.000000             0.000000  262000.000000   \n",
       "75%            45.000000             1.000000  303500.000000   \n",
       "max            80.000000             1.000000  850000.000000   \n",
       "\n",
       "       serum_creatinine  serum_sodium         sex    smoking        time  \\\n",
       "count         299.00000    299.000000  299.000000  299.00000  299.000000   \n",
       "mean            1.39388    136.625418    0.648829    0.32107  130.260870   \n",
       "std             1.03451      4.412477    0.478136    0.46767   77.614208   \n",
       "min             0.50000    113.000000    0.000000    0.00000    4.000000   \n",
       "25%             0.90000    134.000000    0.000000    0.00000   73.000000   \n",
       "50%             1.10000    137.000000    1.000000    0.00000  115.000000   \n",
       "75%             1.40000    140.000000    1.000000    1.00000  203.000000   \n",
       "max             9.40000    148.000000    1.000000    1.00000  285.000000   \n",
       "\n",
       "       DEATH_EVENT  \n",
       "count    299.00000  \n",
       "mean       0.32107  \n",
       "std        0.46767  \n",
       "min        0.00000  \n",
       "25%        0.00000  \n",
       "50%        0.00000  \n",
       "75%        1.00000  \n",
       "max        1.00000  "
      ]
     },
     "execution_count": 811,
     "metadata": {},
     "output_type": "execute_result"
    }
   ],
   "source": [
    "heart_failure_data.describe()"
   ]
  },
  {
   "cell_type": "markdown",
   "metadata": {},
   "source": [
    "Podemos observar alguna correlación negativa relevante con la variable objetivo como por ejemplo time."
   ]
  },
  {
   "cell_type": "code",
   "execution_count": 812,
   "metadata": {},
   "outputs": [
    {
     "data": {
      "image/png": "[encoded data removed]",
      "text/plain": [
       "<Figure size 1000x500 with 2 Axes>"
      ]
     },
     "metadata": {},
     "output_type": "display_data"
    }
   ],
   "source": [
    "correlation_matrix = heart_failure_data.corr().round(2) # arrodonir a 2 decimals\n",
    "plt.figure(figsize = (10,5))\n",
    "sns.heatmap(data = correlation_matrix, annot = True);"
   ]
  },
  {
   "cell_type": "code",
   "execution_count": 813,
   "metadata": {},
   "outputs": [
    {
     "data": {
      "text/html": [
       "<div>\n",
       "<style scoped>\n",
       "    .dataframe tbody tr th:only-of-type {\n",
       "        vertical-align: middle;\n",
       "    }\n",
       "\n",
       "    .dataframe tbody tr th {\n",
       "        vertical-align: top;\n",
       "    }\n",
       "\n",
       "    .dataframe thead th {\n",
       "        text-align: right;\n",
       "    }\n",
       "</style>\n",
       "<table border=\"1\" class=\"dataframe\">\n",
       "  <thead>\n",
       "    <tr style=\"text-align: right;\">\n",
       "      <th></th>\n",
       "      <th>age</th>\n",
       "      <th>creatinine_phosphokinase</th>\n",
       "      <th>ejection_fraction</th>\n",
       "      <th>platelets</th>\n",
       "      <th>serum_creatinine</th>\n",
       "      <th>serum_sodium</th>\n",
       "      <th>time</th>\n",
       "    </tr>\n",
       "  </thead>\n",
       "  <tbody>\n",
       "    <tr>\n",
       "      <th>0</th>\n",
       "      <td>75.0</td>\n",
       "      <td>582</td>\n",
       "      <td>20</td>\n",
       "      <td>265000.00</td>\n",
       "      <td>1.9</td>\n",
       "      <td>130</td>\n",
       "      <td>4</td>\n",
       "    </tr>\n",
       "    <tr>\n",
       "      <th>1</th>\n",
       "      <td>55.0</td>\n",
       "      <td>7861</td>\n",
       "      <td>38</td>\n",
       "      <td>263358.03</td>\n",
       "      <td>1.1</td>\n",
       "      <td>136</td>\n",
       "      <td>6</td>\n",
       "    </tr>\n",
       "    <tr>\n",
       "      <th>2</th>\n",
       "      <td>65.0</td>\n",
       "      <td>146</td>\n",
       "      <td>20</td>\n",
       "      <td>162000.00</td>\n",
       "      <td>1.3</td>\n",
       "      <td>129</td>\n",
       "      <td>7</td>\n",
       "    </tr>\n",
       "    <tr>\n",
       "      <th>3</th>\n",
       "      <td>50.0</td>\n",
       "      <td>111</td>\n",
       "      <td>20</td>\n",
       "      <td>210000.00</td>\n",
       "      <td>1.9</td>\n",
       "      <td>137</td>\n",
       "      <td>7</td>\n",
       "    </tr>\n",
       "    <tr>\n",
       "      <th>4</th>\n",
       "      <td>65.0</td>\n",
       "      <td>160</td>\n",
       "      <td>20</td>\n",
       "      <td>327000.00</td>\n",
       "      <td>2.7</td>\n",
       "      <td>116</td>\n",
       "      <td>8</td>\n",
       "    </tr>\n",
       "    <tr>\n",
       "      <th>...</th>\n",
       "      <td>...</td>\n",
       "      <td>...</td>\n",
       "      <td>...</td>\n",
       "      <td>...</td>\n",
       "      <td>...</td>\n",
       "      <td>...</td>\n",
       "      <td>...</td>\n",
       "    </tr>\n",
       "    <tr>\n",
       "      <th>294</th>\n",
       "      <td>62.0</td>\n",
       "      <td>61</td>\n",
       "      <td>38</td>\n",
       "      <td>155000.00</td>\n",
       "      <td>1.1</td>\n",
       "      <td>143</td>\n",
       "      <td>270</td>\n",
       "    </tr>\n",
       "    <tr>\n",
       "      <th>295</th>\n",
       "      <td>55.0</td>\n",
       "      <td>1820</td>\n",
       "      <td>38</td>\n",
       "      <td>270000.00</td>\n",
       "      <td>1.2</td>\n",
       "      <td>139</td>\n",
       "      <td>271</td>\n",
       "    </tr>\n",
       "    <tr>\n",
       "      <th>296</th>\n",
       "      <td>45.0</td>\n",
       "      <td>2060</td>\n",
       "      <td>60</td>\n",
       "      <td>742000.00</td>\n",
       "      <td>0.8</td>\n",
       "      <td>138</td>\n",
       "      <td>278</td>\n",
       "    </tr>\n",
       "    <tr>\n",
       "      <th>297</th>\n",
       "      <td>45.0</td>\n",
       "      <td>2413</td>\n",
       "      <td>38</td>\n",
       "      <td>140000.00</td>\n",
       "      <td>1.4</td>\n",
       "      <td>140</td>\n",
       "      <td>280</td>\n",
       "    </tr>\n",
       "    <tr>\n",
       "      <th>298</th>\n",
       "      <td>50.0</td>\n",
       "      <td>196</td>\n",
       "      <td>45</td>\n",
       "      <td>395000.00</td>\n",
       "      <td>1.6</td>\n",
       "      <td>136</td>\n",
       "      <td>285</td>\n",
       "    </tr>\n",
       "  </tbody>\n",
       "</table>\n",
       "<p>299 rows × 7 columns</p>\n",
       "</div>"
      ],
      "text/plain": [
       "      age  creatinine_phosphokinase  ejection_fraction  platelets  \\\n",
       "0    75.0                       582                 20  265000.00   \n",
       "1    55.0                      7861                 38  263358.03   \n",
       "2    65.0                       146                 20  162000.00   \n",
       "3    50.0                       111                 20  210000.00   \n",
       "4    65.0                       160                 20  327000.00   \n",
       "..    ...                       ...                ...        ...   \n",
       "294  62.0                        61                 38  155000.00   \n",
       "295  55.0                      1820                 38  270000.00   \n",
       "296  45.0                      2060                 60  742000.00   \n",
       "297  45.0                      2413                 38  140000.00   \n",
       "298  50.0                       196                 45  395000.00   \n",
       "\n",
       "     serum_creatinine  serum_sodium  time  \n",
       "0                 1.9           130     4  \n",
       "1                 1.1           136     6  \n",
       "2                 1.3           129     7  \n",
       "3                 1.9           137     7  \n",
       "4                 2.7           116     8  \n",
       "..                ...           ...   ...  \n",
       "294               1.1           143   270  \n",
       "295               1.2           139   271  \n",
       "296               0.8           138   278  \n",
       "297               1.4           140   280  \n",
       "298               1.6           136   285  \n",
       "\n",
       "[299 rows x 7 columns]"
      ]
     },
     "execution_count": 813,
     "metadata": {},
     "output_type": "execute_result"
    }
   ],
   "source": [
    "variables_continuas = heart_failure_data.loc[:,['age', 'creatinine_phosphokinase', 'ejection_fraction', 'platelets', 'serum_creatinine','serum_sodium','time']]\n",
    "variables_continuas"
   ]
  },
  {
   "cell_type": "markdown",
   "metadata": {},
   "source": [
    "Vamos a visualizar los datos continuos para ver si se asemejan a distribuciones gaussianas"
   ]
  },
  {
   "cell_type": "code",
   "execution_count": 814,
   "metadata": {},
   "outputs": [
    {
     "data": {
      "image/png": "[encoded data removed]",
      "text/plain": [
       "<Figure size 1000x1000 with 9 Axes>"
      ]
     },
     "metadata": {},
     "output_type": "display_data"
    }
   ],
   "source": [
    "variables_continuas.hist(bins=40, density=True, figsize=(10,10));"
   ]
  },
  {
   "cell_type": "markdown",
   "metadata": {},
   "source": [
    "##### Transformación logarítmica"
   ]
  },
  {
   "cell_type": "markdown",
   "metadata": {},
   "source": [
    "Podemos observar que aquellas variables que no se asemejan demasiado a una distribución gaussiana son las siguientes: 'creatinine_phosphokinase','ejection_fraction', 'serum_creatinine', 'time'. Por lo tanto, las trataremos adecuadamente."
   ]
  },
  {
   "cell_type": "code",
   "execution_count": 815,
   "metadata": {},
   "outputs": [],
   "source": [
    "def transformacion_log_data(dataset,vars):\n",
    "    for l in vars:\n",
    "        column_array=dataset[l].array\n",
    "        dataset[l] = np.array(map(lambda x:np.log(x),column_array))\n",
    "    return dataset"
   ]
  },
  {
   "cell_type": "markdown",
   "metadata": {},
   "source": [
    "Crearemos una copia del conjunto de datos obteniendo 2, uno con escala logaritmica y otro sin, los iremos comparando todo el tiempo."
   ]
  },
  {
   "cell_type": "code",
   "execution_count": 816,
   "metadata": {},
   "outputs": [
    {
     "data": {
      "text/html": [
       "<div>\n",
       "<style scoped>\n",
       "    .dataframe tbody tr th:only-of-type {\n",
       "        vertical-align: middle;\n",
       "    }\n",
       "\n",
       "    .dataframe tbody tr th {\n",
       "        vertical-align: top;\n",
       "    }\n",
       "\n",
       "    .dataframe thead th {\n",
       "        text-align: right;\n",
       "    }\n",
       "</style>\n",
       "<table border=\"1\" class=\"dataframe\">\n",
       "  <thead>\n",
       "    <tr style=\"text-align: right;\">\n",
       "      <th></th>\n",
       "      <th>age</th>\n",
       "      <th>anaemia</th>\n",
       "      <th>creatinine_phosphokinase</th>\n",
       "      <th>diabetes</th>\n",
       "      <th>ejection_fraction</th>\n",
       "      <th>high_blood_pressure</th>\n",
       "      <th>platelets</th>\n",
       "      <th>serum_creatinine</th>\n",
       "      <th>serum_sodium</th>\n",
       "      <th>sex</th>\n",
       "      <th>smoking</th>\n",
       "      <th>time</th>\n",
       "      <th>DEATH_EVENT</th>\n",
       "    </tr>\n",
       "  </thead>\n",
       "  <tbody>\n",
       "    <tr>\n",
       "      <th>0</th>\n",
       "      <td>75.0</td>\n",
       "      <td>0</td>\n",
       "      <td>6.36647</td>\n",
       "      <td>0</td>\n",
       "      <td>2.995732</td>\n",
       "      <td>1</td>\n",
       "      <td>265000.00</td>\n",
       "      <td>0.641854</td>\n",
       "      <td>130</td>\n",
       "      <td>1</td>\n",
       "      <td>0</td>\n",
       "      <td>1.386294</td>\n",
       "      <td>1</td>\n",
       "    </tr>\n",
       "    <tr>\n",
       "      <th>1</th>\n",
       "      <td>55.0</td>\n",
       "      <td>0</td>\n",
       "      <td>8.969669</td>\n",
       "      <td>0</td>\n",
       "      <td>3.637586</td>\n",
       "      <td>0</td>\n",
       "      <td>263358.03</td>\n",
       "      <td>0.09531</td>\n",
       "      <td>136</td>\n",
       "      <td>1</td>\n",
       "      <td>0</td>\n",
       "      <td>1.791759</td>\n",
       "      <td>1</td>\n",
       "    </tr>\n",
       "    <tr>\n",
       "      <th>2</th>\n",
       "      <td>65.0</td>\n",
       "      <td>0</td>\n",
       "      <td>4.983607</td>\n",
       "      <td>0</td>\n",
       "      <td>2.995732</td>\n",
       "      <td>0</td>\n",
       "      <td>162000.00</td>\n",
       "      <td>0.262364</td>\n",
       "      <td>129</td>\n",
       "      <td>1</td>\n",
       "      <td>1</td>\n",
       "      <td>1.94591</td>\n",
       "      <td>1</td>\n",
       "    </tr>\n",
       "    <tr>\n",
       "      <th>3</th>\n",
       "      <td>50.0</td>\n",
       "      <td>1</td>\n",
       "      <td>4.70953</td>\n",
       "      <td>0</td>\n",
       "      <td>2.995732</td>\n",
       "      <td>0</td>\n",
       "      <td>210000.00</td>\n",
       "      <td>0.641854</td>\n",
       "      <td>137</td>\n",
       "      <td>1</td>\n",
       "      <td>0</td>\n",
       "      <td>1.94591</td>\n",
       "      <td>1</td>\n",
       "    </tr>\n",
       "    <tr>\n",
       "      <th>4</th>\n",
       "      <td>65.0</td>\n",
       "      <td>1</td>\n",
       "      <td>5.075174</td>\n",
       "      <td>1</td>\n",
       "      <td>2.995732</td>\n",
       "      <td>0</td>\n",
       "      <td>327000.00</td>\n",
       "      <td>0.993252</td>\n",
       "      <td>116</td>\n",
       "      <td>0</td>\n",
       "      <td>0</td>\n",
       "      <td>2.079442</td>\n",
       "      <td>1</td>\n",
       "    </tr>\n",
       "    <tr>\n",
       "      <th>...</th>\n",
       "      <td>...</td>\n",
       "      <td>...</td>\n",
       "      <td>...</td>\n",
       "      <td>...</td>\n",
       "      <td>...</td>\n",
       "      <td>...</td>\n",
       "      <td>...</td>\n",
       "      <td>...</td>\n",
       "      <td>...</td>\n",
       "      <td>...</td>\n",
       "      <td>...</td>\n",
       "      <td>...</td>\n",
       "      <td>...</td>\n",
       "    </tr>\n",
       "    <tr>\n",
       "      <th>294</th>\n",
       "      <td>62.0</td>\n",
       "      <td>0</td>\n",
       "      <td>4.110874</td>\n",
       "      <td>1</td>\n",
       "      <td>3.637586</td>\n",
       "      <td>1</td>\n",
       "      <td>155000.00</td>\n",
       "      <td>0.09531</td>\n",
       "      <td>143</td>\n",
       "      <td>1</td>\n",
       "      <td>1</td>\n",
       "      <td>5.598422</td>\n",
       "      <td>0</td>\n",
       "    </tr>\n",
       "    <tr>\n",
       "      <th>295</th>\n",
       "      <td>55.0</td>\n",
       "      <td>0</td>\n",
       "      <td>7.506592</td>\n",
       "      <td>0</td>\n",
       "      <td>3.637586</td>\n",
       "      <td>0</td>\n",
       "      <td>270000.00</td>\n",
       "      <td>0.182322</td>\n",
       "      <td>139</td>\n",
       "      <td>0</td>\n",
       "      <td>0</td>\n",
       "      <td>5.602119</td>\n",
       "      <td>0</td>\n",
       "    </tr>\n",
       "    <tr>\n",
       "      <th>296</th>\n",
       "      <td>45.0</td>\n",
       "      <td>0</td>\n",
       "      <td>7.630461</td>\n",
       "      <td>1</td>\n",
       "      <td>4.094345</td>\n",
       "      <td>0</td>\n",
       "      <td>742000.00</td>\n",
       "      <td>-0.223144</td>\n",
       "      <td>138</td>\n",
       "      <td>0</td>\n",
       "      <td>0</td>\n",
       "      <td>5.627621</td>\n",
       "      <td>0</td>\n",
       "    </tr>\n",
       "    <tr>\n",
       "      <th>297</th>\n",
       "      <td>45.0</td>\n",
       "      <td>0</td>\n",
       "      <td>7.788626</td>\n",
       "      <td>0</td>\n",
       "      <td>3.637586</td>\n",
       "      <td>0</td>\n",
       "      <td>140000.00</td>\n",
       "      <td>0.336472</td>\n",
       "      <td>140</td>\n",
       "      <td>1</td>\n",
       "      <td>1</td>\n",
       "      <td>5.63479</td>\n",
       "      <td>0</td>\n",
       "    </tr>\n",
       "    <tr>\n",
       "      <th>298</th>\n",
       "      <td>50.0</td>\n",
       "      <td>0</td>\n",
       "      <td>5.278115</td>\n",
       "      <td>0</td>\n",
       "      <td>3.806662</td>\n",
       "      <td>0</td>\n",
       "      <td>395000.00</td>\n",
       "      <td>0.470004</td>\n",
       "      <td>136</td>\n",
       "      <td>1</td>\n",
       "      <td>1</td>\n",
       "      <td>5.652489</td>\n",
       "      <td>0</td>\n",
       "    </tr>\n",
       "  </tbody>\n",
       "</table>\n",
       "<p>299 rows × 13 columns</p>\n",
       "</div>"
      ],
      "text/plain": [
       "      age  anaemia creatinine_phosphokinase  diabetes ejection_fraction  \\\n",
       "0    75.0        0                  6.36647         0          2.995732   \n",
       "1    55.0        0                 8.969669         0          3.637586   \n",
       "2    65.0        0                 4.983607         0          2.995732   \n",
       "3    50.0        1                  4.70953         0          2.995732   \n",
       "4    65.0        1                 5.075174         1          2.995732   \n",
       "..    ...      ...                      ...       ...               ...   \n",
       "294  62.0        0                 4.110874         1          3.637586   \n",
       "295  55.0        0                 7.506592         0          3.637586   \n",
       "296  45.0        0                 7.630461         1          4.094345   \n",
       "297  45.0        0                 7.788626         0          3.637586   \n",
       "298  50.0        0                 5.278115         0          3.806662   \n",
       "\n",
       "     high_blood_pressure  platelets serum_creatinine  serum_sodium  sex  \\\n",
       "0                      1  265000.00         0.641854           130    1   \n",
       "1                      0  263358.03          0.09531           136    1   \n",
       "2                      0  162000.00         0.262364           129    1   \n",
       "3                      0  210000.00         0.641854           137    1   \n",
       "4                      0  327000.00         0.993252           116    0   \n",
       "..                   ...        ...              ...           ...  ...   \n",
       "294                    1  155000.00          0.09531           143    1   \n",
       "295                    0  270000.00         0.182322           139    0   \n",
       "296                    0  742000.00        -0.223144           138    0   \n",
       "297                    0  140000.00         0.336472           140    1   \n",
       "298                    0  395000.00         0.470004           136    1   \n",
       "\n",
       "     smoking      time  DEATH_EVENT  \n",
       "0          0  1.386294            1  \n",
       "1          0  1.791759            1  \n",
       "2          1   1.94591            1  \n",
       "3          0   1.94591            1  \n",
       "4          0  2.079442            1  \n",
       "..       ...       ...          ...  \n",
       "294        1  5.598422            0  \n",
       "295        0  5.602119            0  \n",
       "296        0  5.627621            0  \n",
       "297        1   5.63479            0  \n",
       "298        1  5.652489            0  \n",
       "\n",
       "[299 rows x 13 columns]"
      ]
     },
     "execution_count": 816,
     "metadata": {},
     "output_type": "execute_result"
    }
   ],
   "source": [
    "log_vars = ['creatinine_phosphokinase','ejection_fraction', 'serum_creatinine', 'time']\n",
    "\n",
    "log_heart_failure_data = transformacion_log_data(heart_failure_data.copy(),log_vars)\n",
    "log_heart_failure_data"
   ]
  },
  {
   "cell_type": "code",
   "execution_count": 817,
   "metadata": {},
   "outputs": [
    {
     "data": {
      "text/html": [
       "<div>\n",
       "<style scoped>\n",
       "    .dataframe tbody tr th:only-of-type {\n",
       "        vertical-align: middle;\n",
       "    }\n",
       "\n",
       "    .dataframe tbody tr th {\n",
       "        vertical-align: top;\n",
       "    }\n",
       "\n",
       "    .dataframe thead th {\n",
       "        text-align: right;\n",
       "    }\n",
       "</style>\n",
       "<table border=\"1\" class=\"dataframe\">\n",
       "  <thead>\n",
       "    <tr style=\"text-align: right;\">\n",
       "      <th></th>\n",
       "      <th>creatinine_phosphokinase</th>\n",
       "      <th>ejection_fraction</th>\n",
       "      <th>serum_creatinine</th>\n",
       "      <th>time</th>\n",
       "    </tr>\n",
       "  </thead>\n",
       "  <tbody>\n",
       "    <tr>\n",
       "      <th>0</th>\n",
       "      <td>6.36647</td>\n",
       "      <td>2.995732</td>\n",
       "      <td>0.641854</td>\n",
       "      <td>1.386294</td>\n",
       "    </tr>\n",
       "    <tr>\n",
       "      <th>1</th>\n",
       "      <td>8.969669</td>\n",
       "      <td>3.637586</td>\n",
       "      <td>0.09531</td>\n",
       "      <td>1.791759</td>\n",
       "    </tr>\n",
       "    <tr>\n",
       "      <th>2</th>\n",
       "      <td>4.983607</td>\n",
       "      <td>2.995732</td>\n",
       "      <td>0.262364</td>\n",
       "      <td>1.94591</td>\n",
       "    </tr>\n",
       "    <tr>\n",
       "      <th>3</th>\n",
       "      <td>4.70953</td>\n",
       "      <td>2.995732</td>\n",
       "      <td>0.641854</td>\n",
       "      <td>1.94591</td>\n",
       "    </tr>\n",
       "    <tr>\n",
       "      <th>4</th>\n",
       "      <td>5.075174</td>\n",
       "      <td>2.995732</td>\n",
       "      <td>0.993252</td>\n",
       "      <td>2.079442</td>\n",
       "    </tr>\n",
       "    <tr>\n",
       "      <th>...</th>\n",
       "      <td>...</td>\n",
       "      <td>...</td>\n",
       "      <td>...</td>\n",
       "      <td>...</td>\n",
       "    </tr>\n",
       "    <tr>\n",
       "      <th>294</th>\n",
       "      <td>4.110874</td>\n",
       "      <td>3.637586</td>\n",
       "      <td>0.09531</td>\n",
       "      <td>5.598422</td>\n",
       "    </tr>\n",
       "    <tr>\n",
       "      <th>295</th>\n",
       "      <td>7.506592</td>\n",
       "      <td>3.637586</td>\n",
       "      <td>0.182322</td>\n",
       "      <td>5.602119</td>\n",
       "    </tr>\n",
       "    <tr>\n",
       "      <th>296</th>\n",
       "      <td>7.630461</td>\n",
       "      <td>4.094345</td>\n",
       "      <td>-0.223144</td>\n",
       "      <td>5.627621</td>\n",
       "    </tr>\n",
       "    <tr>\n",
       "      <th>297</th>\n",
       "      <td>7.788626</td>\n",
       "      <td>3.637586</td>\n",
       "      <td>0.336472</td>\n",
       "      <td>5.63479</td>\n",
       "    </tr>\n",
       "    <tr>\n",
       "      <th>298</th>\n",
       "      <td>5.278115</td>\n",
       "      <td>3.806662</td>\n",
       "      <td>0.470004</td>\n",
       "      <td>5.652489</td>\n",
       "    </tr>\n",
       "  </tbody>\n",
       "</table>\n",
       "<p>299 rows × 4 columns</p>\n",
       "</div>"
      ],
      "text/plain": [
       "    creatinine_phosphokinase ejection_fraction serum_creatinine      time\n",
       "0                    6.36647          2.995732         0.641854  1.386294\n",
       "1                   8.969669          3.637586          0.09531  1.791759\n",
       "2                   4.983607          2.995732         0.262364   1.94591\n",
       "3                    4.70953          2.995732         0.641854   1.94591\n",
       "4                   5.075174          2.995732         0.993252  2.079442\n",
       "..                       ...               ...              ...       ...\n",
       "294                 4.110874          3.637586          0.09531  5.598422\n",
       "295                 7.506592          3.637586         0.182322  5.602119\n",
       "296                 7.630461          4.094345        -0.223144  5.627621\n",
       "297                 7.788626          3.637586         0.336472   5.63479\n",
       "298                 5.278115          3.806662         0.470004  5.652489\n",
       "\n",
       "[299 rows x 4 columns]"
      ]
     },
     "execution_count": 817,
     "metadata": {},
     "output_type": "execute_result"
    }
   ],
   "source": [
    "variables_transformadas=log_heart_failure_data.loc[:, ['creatinine_phosphokinase','ejection_fraction', 'serum_creatinine', 'time']]\n",
    "variables_transformadas"
   ]
  },
  {
   "cell_type": "markdown",
   "metadata": {},
   "source": [
    "Podemos observar que al ser tratadas hemos conseguido una distribución más similar a la gaussiana"
   ]
  },
  {
   "cell_type": "code",
   "execution_count": 818,
   "metadata": {},
   "outputs": [
    {
     "data": {
      "text/plain": [
       "<AxesSubplot: xlabel='time', ylabel='Count'>"
      ]
     },
     "execution_count": 818,
     "metadata": {},
     "output_type": "execute_result"
    },
    {
     "data": {
      "image/png": "[encoded data removed]",
      "text/plain": [
       "<Figure size 1000x300 with 4 Axes>"
      ]
     },
     "metadata": {},
     "output_type": "display_data"
    }
   ],
   "source": [
    "fig, ax = plt.subplots(2,2,figsize=(10,3))\n",
    "sns.histplot(data = variables_transformadas, x='creatinine_phosphokinase',ax=ax[0,0])\n",
    "sns.histplot(data = variables_transformadas, x='ejection_fraction',ax=ax[0,1])\n",
    "sns.histplot(data = variables_transformadas, x='serum_creatinine',ax=ax[1,0])\n",
    "sns.histplot(data = variables_transformadas, x='time',ax=ax[1,1])"
   ]
  },
  {
   "cell_type": "markdown",
   "metadata": {},
   "source": [
    "##### Normalización de datos"
   ]
  },
  {
   "cell_type": "markdown",
   "metadata": {},
   "source": [
    "Normalizaremos ambos conjuntos para obtener una mayor percepción de los datos, obviamente los datos discretos no los normalizaremos ya que estarán entre 0 y 1"
   ]
  },
  {
   "cell_type": "code",
   "execution_count": 819,
   "metadata": {},
   "outputs": [
    {
     "data": {
      "text/html": [
       "<div>\n",
       "<style scoped>\n",
       "    .dataframe tbody tr th:only-of-type {\n",
       "        vertical-align: middle;\n",
       "    }\n",
       "\n",
       "    .dataframe tbody tr th {\n",
       "        vertical-align: top;\n",
       "    }\n",
       "\n",
       "    .dataframe thead th {\n",
       "        text-align: right;\n",
       "    }\n",
       "</style>\n",
       "<table border=\"1\" class=\"dataframe\">\n",
       "  <thead>\n",
       "    <tr style=\"text-align: right;\">\n",
       "      <th></th>\n",
       "      <th>age</th>\n",
       "      <th>anaemia</th>\n",
       "      <th>creatinine_phosphokinase</th>\n",
       "      <th>diabetes</th>\n",
       "      <th>ejection_fraction</th>\n",
       "      <th>high_blood_pressure</th>\n",
       "      <th>platelets</th>\n",
       "      <th>serum_creatinine</th>\n",
       "      <th>serum_sodium</th>\n",
       "      <th>sex</th>\n",
       "      <th>smoking</th>\n",
       "      <th>time</th>\n",
       "      <th>DEATH_EVENT</th>\n",
       "    </tr>\n",
       "  </thead>\n",
       "  <tbody>\n",
       "    <tr>\n",
       "      <th>count</th>\n",
       "      <td>299.000000</td>\n",
       "      <td>299.000000</td>\n",
       "      <td>299.000000</td>\n",
       "      <td>299.000000</td>\n",
       "      <td>299.000000</td>\n",
       "      <td>299.000000</td>\n",
       "      <td>299.000000</td>\n",
       "      <td>299.000000</td>\n",
       "      <td>299.000000</td>\n",
       "      <td>299.000000</td>\n",
       "      <td>299.00000</td>\n",
       "      <td>299.000000</td>\n",
       "      <td>299.00000</td>\n",
       "    </tr>\n",
       "    <tr>\n",
       "      <th>mean</th>\n",
       "      <td>0.378798</td>\n",
       "      <td>0.431438</td>\n",
       "      <td>0.071299</td>\n",
       "      <td>0.418060</td>\n",
       "      <td>0.364903</td>\n",
       "      <td>0.351171</td>\n",
       "      <td>0.288833</td>\n",
       "      <td>0.100436</td>\n",
       "      <td>0.675012</td>\n",
       "      <td>0.648829</td>\n",
       "      <td>0.32107</td>\n",
       "      <td>0.449327</td>\n",
       "      <td>0.32107</td>\n",
       "    </tr>\n",
       "    <tr>\n",
       "      <th>std</th>\n",
       "      <td>0.216269</td>\n",
       "      <td>0.496107</td>\n",
       "      <td>0.123793</td>\n",
       "      <td>0.494067</td>\n",
       "      <td>0.179316</td>\n",
       "      <td>0.478136</td>\n",
       "      <td>0.118565</td>\n",
       "      <td>0.116237</td>\n",
       "      <td>0.126071</td>\n",
       "      <td>0.478136</td>\n",
       "      <td>0.46767</td>\n",
       "      <td>0.276207</td>\n",
       "      <td>0.46767</td>\n",
       "    </tr>\n",
       "    <tr>\n",
       "      <th>min</th>\n",
       "      <td>0.000000</td>\n",
       "      <td>0.000000</td>\n",
       "      <td>0.000000</td>\n",
       "      <td>0.000000</td>\n",
       "      <td>0.000000</td>\n",
       "      <td>0.000000</td>\n",
       "      <td>0.000000</td>\n",
       "      <td>0.000000</td>\n",
       "      <td>0.000000</td>\n",
       "      <td>0.000000</td>\n",
       "      <td>0.00000</td>\n",
       "      <td>0.000000</td>\n",
       "      <td>0.00000</td>\n",
       "    </tr>\n",
       "    <tr>\n",
       "      <th>25%</th>\n",
       "      <td>0.200000</td>\n",
       "      <td>0.000000</td>\n",
       "      <td>0.011929</td>\n",
       "      <td>0.000000</td>\n",
       "      <td>0.242424</td>\n",
       "      <td>0.000000</td>\n",
       "      <td>0.227179</td>\n",
       "      <td>0.044944</td>\n",
       "      <td>0.600000</td>\n",
       "      <td>0.000000</td>\n",
       "      <td>0.00000</td>\n",
       "      <td>0.245552</td>\n",
       "      <td>0.00000</td>\n",
       "    </tr>\n",
       "    <tr>\n",
       "      <th>50%</th>\n",
       "      <td>0.363636</td>\n",
       "      <td>0.000000</td>\n",
       "      <td>0.028961</td>\n",
       "      <td>0.000000</td>\n",
       "      <td>0.363636</td>\n",
       "      <td>0.000000</td>\n",
       "      <td>0.287186</td>\n",
       "      <td>0.067416</td>\n",
       "      <td>0.685714</td>\n",
       "      <td>1.000000</td>\n",
       "      <td>0.00000</td>\n",
       "      <td>0.395018</td>\n",
       "      <td>0.00000</td>\n",
       "    </tr>\n",
       "    <tr>\n",
       "      <th>75%</th>\n",
       "      <td>0.545455</td>\n",
       "      <td>1.000000</td>\n",
       "      <td>0.071319</td>\n",
       "      <td>1.000000</td>\n",
       "      <td>0.469697</td>\n",
       "      <td>1.000000</td>\n",
       "      <td>0.337495</td>\n",
       "      <td>0.101124</td>\n",
       "      <td>0.771429</td>\n",
       "      <td>1.000000</td>\n",
       "      <td>1.00000</td>\n",
       "      <td>0.708185</td>\n",
       "      <td>1.00000</td>\n",
       "    </tr>\n",
       "    <tr>\n",
       "      <th>max</th>\n",
       "      <td>1.000000</td>\n",
       "      <td>1.000000</td>\n",
       "      <td>1.000000</td>\n",
       "      <td>1.000000</td>\n",
       "      <td>1.000000</td>\n",
       "      <td>1.000000</td>\n",
       "      <td>1.000000</td>\n",
       "      <td>1.000000</td>\n",
       "      <td>1.000000</td>\n",
       "      <td>1.000000</td>\n",
       "      <td>1.00000</td>\n",
       "      <td>1.000000</td>\n",
       "      <td>1.00000</td>\n",
       "    </tr>\n",
       "  </tbody>\n",
       "</table>\n",
       "</div>"
      ],
      "text/plain": [
       "              age     anaemia  creatinine_phosphokinase    diabetes  \\\n",
       "count  299.000000  299.000000                299.000000  299.000000   \n",
       "mean     0.378798    0.431438                  0.071299    0.418060   \n",
       "std      0.216269    0.496107                  0.123793    0.494067   \n",
       "min      0.000000    0.000000                  0.000000    0.000000   \n",
       "25%      0.200000    0.000000                  0.011929    0.000000   \n",
       "50%      0.363636    0.000000                  0.028961    0.000000   \n",
       "75%      0.545455    1.000000                  0.071319    1.000000   \n",
       "max      1.000000    1.000000                  1.000000    1.000000   \n",
       "\n",
       "       ejection_fraction  high_blood_pressure   platelets  serum_creatinine  \\\n",
       "count         299.000000           299.000000  299.000000        299.000000   \n",
       "mean            0.364903             0.351171    0.288833          0.100436   \n",
       "std             0.179316             0.478136    0.118565          0.116237   \n",
       "min             0.000000             0.000000    0.000000          0.000000   \n",
       "25%             0.242424             0.000000    0.227179          0.044944   \n",
       "50%             0.363636             0.000000    0.287186          0.067416   \n",
       "75%             0.469697             1.000000    0.337495          0.101124   \n",
       "max             1.000000             1.000000    1.000000          1.000000   \n",
       "\n",
       "       serum_sodium         sex    smoking        time  DEATH_EVENT  \n",
       "count    299.000000  299.000000  299.00000  299.000000    299.00000  \n",
       "mean       0.675012    0.648829    0.32107    0.449327      0.32107  \n",
       "std        0.126071    0.478136    0.46767    0.276207      0.46767  \n",
       "min        0.000000    0.000000    0.00000    0.000000      0.00000  \n",
       "25%        0.600000    0.000000    0.00000    0.245552      0.00000  \n",
       "50%        0.685714    1.000000    0.00000    0.395018      0.00000  \n",
       "75%        0.771429    1.000000    1.00000    0.708185      1.00000  \n",
       "max        1.000000    1.000000    1.00000    1.000000      1.00000  "
      ]
     },
     "execution_count": 819,
     "metadata": {},
     "output_type": "execute_result"
    }
   ],
   "source": [
    "variables_continuas = ['age', 'creatinine_phosphokinase', 'ejection_fraction', 'platelets', 'serum_creatinine','serum_sodium','time']\n",
    "heart_failure_data_min_max = heart_failure_data.copy()\n",
    "heart_failure_data_min_max[variables_continuas] = MinMaxScaler().fit_transform(heart_failure_data[variables_continuas])\n",
    "heart_failure_data_min_max.describe()"
   ]
  },
  {
   "cell_type": "code",
   "execution_count": 820,
   "metadata": {},
   "outputs": [
    {
     "data": {
      "text/html": [
       "<div>\n",
       "<style scoped>\n",
       "    .dataframe tbody tr th:only-of-type {\n",
       "        vertical-align: middle;\n",
       "    }\n",
       "\n",
       "    .dataframe tbody tr th {\n",
       "        vertical-align: top;\n",
       "    }\n",
       "\n",
       "    .dataframe thead th {\n",
       "        text-align: right;\n",
       "    }\n",
       "</style>\n",
       "<table border=\"1\" class=\"dataframe\">\n",
       "  <thead>\n",
       "    <tr style=\"text-align: right;\">\n",
       "      <th></th>\n",
       "      <th>age</th>\n",
       "      <th>anaemia</th>\n",
       "      <th>creatinine_phosphokinase</th>\n",
       "      <th>diabetes</th>\n",
       "      <th>ejection_fraction</th>\n",
       "      <th>high_blood_pressure</th>\n",
       "      <th>platelets</th>\n",
       "      <th>serum_creatinine</th>\n",
       "      <th>serum_sodium</th>\n",
       "      <th>sex</th>\n",
       "      <th>smoking</th>\n",
       "      <th>time</th>\n",
       "      <th>DEATH_EVENT</th>\n",
       "    </tr>\n",
       "  </thead>\n",
       "  <tbody>\n",
       "    <tr>\n",
       "      <th>count</th>\n",
       "      <td>299.000000</td>\n",
       "      <td>299.000000</td>\n",
       "      <td>299.000000</td>\n",
       "      <td>299.000000</td>\n",
       "      <td>299.000000</td>\n",
       "      <td>299.000000</td>\n",
       "      <td>299.000000</td>\n",
       "      <td>299.000000</td>\n",
       "      <td>299.000000</td>\n",
       "      <td>299.000000</td>\n",
       "      <td>299.00000</td>\n",
       "      <td>299.000000</td>\n",
       "      <td>299.00000</td>\n",
       "    </tr>\n",
       "    <tr>\n",
       "      <th>mean</th>\n",
       "      <td>0.378798</td>\n",
       "      <td>0.431438</td>\n",
       "      <td>0.432692</td>\n",
       "      <td>0.418060</td>\n",
       "      <td>0.546069</td>\n",
       "      <td>0.351171</td>\n",
       "      <td>0.288833</td>\n",
       "      <td>0.303946</td>\n",
       "      <td>0.675012</td>\n",
       "      <td>0.648829</td>\n",
       "      <td>0.32107</td>\n",
       "      <td>0.749406</td>\n",
       "      <td>0.32107</td>\n",
       "    </tr>\n",
       "    <tr>\n",
       "      <th>std</th>\n",
       "      <td>0.216269</td>\n",
       "      <td>0.496107</td>\n",
       "      <td>0.194447</td>\n",
       "      <td>0.494067</td>\n",
       "      <td>0.182485</td>\n",
       "      <td>0.478136</td>\n",
       "      <td>0.118565</td>\n",
       "      <td>0.154441</td>\n",
       "      <td>0.126071</td>\n",
       "      <td>0.478136</td>\n",
       "      <td>0.46767</td>\n",
       "      <td>0.210768</td>\n",
       "      <td>0.46767</td>\n",
       "    </tr>\n",
       "    <tr>\n",
       "      <th>min</th>\n",
       "      <td>0.000000</td>\n",
       "      <td>0.000000</td>\n",
       "      <td>0.000000</td>\n",
       "      <td>0.000000</td>\n",
       "      <td>0.000000</td>\n",
       "      <td>0.000000</td>\n",
       "      <td>0.000000</td>\n",
       "      <td>0.000000</td>\n",
       "      <td>0.000000</td>\n",
       "      <td>0.000000</td>\n",
       "      <td>0.00000</td>\n",
       "      <td>0.000000</td>\n",
       "      <td>0.00000</td>\n",
       "    </tr>\n",
       "    <tr>\n",
       "      <th>25%</th>\n",
       "      <td>0.200000</td>\n",
       "      <td>0.000000</td>\n",
       "      <td>0.278071</td>\n",
       "      <td>0.000000</td>\n",
       "      <td>0.437265</td>\n",
       "      <td>0.000000</td>\n",
       "      <td>0.227179</td>\n",
       "      <td>0.200346</td>\n",
       "      <td>0.600000</td>\n",
       "      <td>0.000000</td>\n",
       "      <td>0.00000</td>\n",
       "      <td>0.680739</td>\n",
       "      <td>0.00000</td>\n",
       "    </tr>\n",
       "    <tr>\n",
       "      <th>50%</th>\n",
       "      <td>0.363636</td>\n",
       "      <td>0.000000</td>\n",
       "      <td>0.408964</td>\n",
       "      <td>0.000000</td>\n",
       "      <td>0.572890</td>\n",
       "      <td>0.000000</td>\n",
       "      <td>0.287186</td>\n",
       "      <td>0.268744</td>\n",
       "      <td>0.685714</td>\n",
       "      <td>1.000000</td>\n",
       "      <td>0.00000</td>\n",
       "      <td>0.787268</td>\n",
       "      <td>0.00000</td>\n",
       "    </tr>\n",
       "    <tr>\n",
       "      <th>75%</th>\n",
       "      <td>0.545455</td>\n",
       "      <td>1.000000</td>\n",
       "      <td>0.553802</td>\n",
       "      <td>1.000000</td>\n",
       "      <td>0.669894</td>\n",
       "      <td>1.000000</td>\n",
       "      <td>0.337495</td>\n",
       "      <td>0.350944</td>\n",
       "      <td>0.771429</td>\n",
       "      <td>1.000000</td>\n",
       "      <td>1.00000</td>\n",
       "      <td>0.920460</td>\n",
       "      <td>1.00000</td>\n",
       "    </tr>\n",
       "    <tr>\n",
       "      <th>max</th>\n",
       "      <td>1.000000</td>\n",
       "      <td>1.000000</td>\n",
       "      <td>1.000000</td>\n",
       "      <td>1.000000</td>\n",
       "      <td>1.000000</td>\n",
       "      <td>1.000000</td>\n",
       "      <td>1.000000</td>\n",
       "      <td>1.000000</td>\n",
       "      <td>1.000000</td>\n",
       "      <td>1.000000</td>\n",
       "      <td>1.00000</td>\n",
       "      <td>1.000000</td>\n",
       "      <td>1.00000</td>\n",
       "    </tr>\n",
       "  </tbody>\n",
       "</table>\n",
       "</div>"
      ],
      "text/plain": [
       "              age     anaemia  creatinine_phosphokinase    diabetes  \\\n",
       "count  299.000000  299.000000                299.000000  299.000000   \n",
       "mean     0.378798    0.431438                  0.432692    0.418060   \n",
       "std      0.216269    0.496107                  0.194447    0.494067   \n",
       "min      0.000000    0.000000                  0.000000    0.000000   \n",
       "25%      0.200000    0.000000                  0.278071    0.000000   \n",
       "50%      0.363636    0.000000                  0.408964    0.000000   \n",
       "75%      0.545455    1.000000                  0.553802    1.000000   \n",
       "max      1.000000    1.000000                  1.000000    1.000000   \n",
       "\n",
       "       ejection_fraction  high_blood_pressure   platelets  serum_creatinine  \\\n",
       "count         299.000000           299.000000  299.000000        299.000000   \n",
       "mean            0.546069             0.351171    0.288833          0.303946   \n",
       "std             0.182485             0.478136    0.118565          0.154441   \n",
       "min             0.000000             0.000000    0.000000          0.000000   \n",
       "25%             0.437265             0.000000    0.227179          0.200346   \n",
       "50%             0.572890             0.000000    0.287186          0.268744   \n",
       "75%             0.669894             1.000000    0.337495          0.350944   \n",
       "max             1.000000             1.000000    1.000000          1.000000   \n",
       "\n",
       "       serum_sodium         sex    smoking        time  DEATH_EVENT  \n",
       "count    299.000000  299.000000  299.00000  299.000000    299.00000  \n",
       "mean       0.675012    0.648829    0.32107    0.749406      0.32107  \n",
       "std        0.126071    0.478136    0.46767    0.210768      0.46767  \n",
       "min        0.000000    0.000000    0.00000    0.000000      0.00000  \n",
       "25%        0.600000    0.000000    0.00000    0.680739      0.00000  \n",
       "50%        0.685714    1.000000    0.00000    0.787268      0.00000  \n",
       "75%        0.771429    1.000000    1.00000    0.920460      1.00000  \n",
       "max        1.000000    1.000000    1.00000    1.000000      1.00000  "
      ]
     },
     "execution_count": 820,
     "metadata": {},
     "output_type": "execute_result"
    }
   ],
   "source": [
    "heart_failure_data_min_max_log = log_heart_failure_data.copy()\n",
    "heart_failure_data_min_max_log[variables_continuas] = MinMaxScaler().fit_transform(log_heart_failure_data[variables_continuas])\n",
    "heart_failure_data_min_max_log.describe()"
   ]
  },
  {
   "cell_type": "markdown",
   "metadata": {},
   "source": [
    "##### Train and split de datos"
   ]
  },
  {
   "cell_type": "markdown",
   "metadata": {},
   "source": [
    "Seguidamente, haremos la partición estratificada de nuestros dos conjuntos de datos"
   ]
  },
  {
   "cell_type": "code",
   "execution_count": 821,
   "metadata": {},
   "outputs": [],
   "source": [
    "X = heart_failure_data_min_max.loc[:,heart_failure_data_min_max.columns != \"DEATH_EVENT\"]\n",
    "y = heart_failure_data_min_max[\"DEATH_EVENT\"]\n",
    "\n",
    "X_train, X_test, y_train, y_test = train_test_split(X, y, test_size=0.3, random_state=25,stratify=y)"
   ]
  },
  {
   "cell_type": "code",
   "execution_count": 822,
   "metadata": {},
   "outputs": [],
   "source": [
    "X = heart_failure_data_min_max_log.loc[:,heart_failure_data_min_max_log.columns != \"DEATH_EVENT\"]\n",
    "y = heart_failure_data_min_max_log[\"DEATH_EVENT\"]\n",
    "\n",
    "X_train_log, X_test_log, y_train_log, y_test_log = train_test_split(X, y, test_size=0.3, random_state=25,stratify=y)"
   ]
  },
  {
   "cell_type": "markdown",
   "metadata": {},
   "source": [
    "#### Apartado b)"
   ]
  },
  {
   "cell_type": "code",
   "execution_count": 823,
   "metadata": {},
   "outputs": [],
   "source": [
    "def save_results(clf, xt, yt, nclf, df):\n",
    "    df.loc[nclf,'test acc'] = accuracy_score(yt, clf.predict(xt))\n",
    "    df.loc[nclf,'precision score (W)'] = precision_score(yt, clf.predict(xt), average='weighted')\n",
    "    df.loc[nclf,'recall score (W)'] = recall_score(yt, clf.predict(xt), average='weighted')\n",
    "    df.loc[nclf,'f1 score (W)'] = f1_score(yt, clf.predict(xt), average='weighted')\n",
    "    return df\n",
    "\n",
    "results_df = pd.DataFrame()\n",
    "results_df_log = pd.DataFrame()"
   ]
  },
  {
   "cell_type": "markdown",
   "metadata": {},
   "source": [
    "##### Modelo Naive Bayes conjunto de datos original"
   ]
  },
  {
   "cell_type": "markdown",
   "metadata": {},
   "source": [
    "Seguidamente podemos observar que hemos obtenido un score de 0.77 con el conjunto de datos sin escala logaritmica"
   ]
  },
  {
   "cell_type": "code",
   "execution_count": 824,
   "metadata": {},
   "outputs": [
    {
     "name": "stdout",
     "output_type": "stream",
     "text": [
      "0.7752380952380953\n"
     ]
    }
   ],
   "source": [
    "gnb = GaussianNB()\n",
    "print(np.mean(cross_val_score(gnb,X_train,y_train,cv=10)))"
   ]
  },
  {
   "cell_type": "code",
   "execution_count": 825,
   "metadata": {},
   "outputs": [
    {
     "name": "stdout",
     "output_type": "stream",
     "text": [
      "Priors: [0.67942584 0.32057416]\n",
      "Means:\n",
      "\n"
     ]
    },
    {
     "data": {
      "text/html": [
       "<div>\n",
       "<style scoped>\n",
       "    .dataframe tbody tr th:only-of-type {\n",
       "        vertical-align: middle;\n",
       "    }\n",
       "\n",
       "    .dataframe tbody tr th {\n",
       "        vertical-align: top;\n",
       "    }\n",
       "\n",
       "    .dataframe thead th {\n",
       "        text-align: right;\n",
       "    }\n",
       "</style>\n",
       "<table border=\"1\" class=\"dataframe\">\n",
       "  <thead>\n",
       "    <tr style=\"text-align: right;\">\n",
       "      <th></th>\n",
       "      <th>age</th>\n",
       "      <th>anaemia</th>\n",
       "      <th>creatinine_phosphokinase</th>\n",
       "      <th>diabetes</th>\n",
       "      <th>ejection_fraction</th>\n",
       "      <th>high_blood_pressure</th>\n",
       "      <th>platelets</th>\n",
       "      <th>serum_creatinine</th>\n",
       "      <th>serum_sodium</th>\n",
       "      <th>sex</th>\n",
       "      <th>smoking</th>\n",
       "      <th>time</th>\n",
       "    </tr>\n",
       "  </thead>\n",
       "  <tbody>\n",
       "    <tr>\n",
       "      <th>0</th>\n",
       "      <td>0.323005</td>\n",
       "      <td>0.408451</td>\n",
       "      <td>0.069179</td>\n",
       "      <td>0.408451</td>\n",
       "      <td>0.400235</td>\n",
       "      <td>0.323944</td>\n",
       "      <td>0.292357</td>\n",
       "      <td>0.074862</td>\n",
       "      <td>0.691348</td>\n",
       "      <td>0.661972</td>\n",
       "      <td>0.330986</td>\n",
       "      <td>0.534058</td>\n",
       "    </tr>\n",
       "    <tr>\n",
       "      <th>1</th>\n",
       "      <td>0.455541</td>\n",
       "      <td>0.477612</td>\n",
       "      <td>0.090127</td>\n",
       "      <td>0.402985</td>\n",
       "      <td>0.282225</td>\n",
       "      <td>0.447761</td>\n",
       "      <td>0.292377</td>\n",
       "      <td>0.145581</td>\n",
       "      <td>0.628145</td>\n",
       "      <td>0.626866</td>\n",
       "      <td>0.358209</td>\n",
       "      <td>0.254847</td>\n",
       "    </tr>\n",
       "  </tbody>\n",
       "</table>\n",
       "</div>"
      ],
      "text/plain": [
       "        age   anaemia  creatinine_phosphokinase  diabetes  ejection_fraction  \\\n",
       "0  0.323005  0.408451                  0.069179  0.408451           0.400235   \n",
       "1  0.455541  0.477612                  0.090127  0.402985           0.282225   \n",
       "\n",
       "   high_blood_pressure  platelets  serum_creatinine  serum_sodium       sex  \\\n",
       "0             0.323944   0.292357          0.074862      0.691348  0.661972   \n",
       "1             0.447761   0.292377          0.145581      0.628145  0.626866   \n",
       "\n",
       "    smoking      time  \n",
       "0  0.330986  0.534058  \n",
       "1  0.358209  0.254847  "
      ]
     },
     "execution_count": 825,
     "metadata": {},
     "output_type": "execute_result"
    }
   ],
   "source": [
    "gnb_model = GaussianNB().fit(X_train, y_train)\n",
    "\n",
    "print('Priors:', gnb_model.class_prior_)\n",
    "print('Means:\\n')\n",
    "means =pd.DataFrame(gnb_model.theta_)\n",
    "means.columns=X_train.columns\n",
    "means"
   ]
  },
  {
   "cell_type": "markdown",
   "metadata": {},
   "source": [
    "Podemos observar los diversos scores del modelo sin logaritmos, donde serán tratados dependiendo del contexto"
   ]
  },
  {
   "cell_type": "code",
   "execution_count": 826,
   "metadata": {},
   "outputs": [
    {
     "name": "stdout",
     "output_type": "stream",
     "text": [
      "              precision    recall  f1-score   support\n",
      "\n",
      "           T       0.89      0.77      0.82        70\n",
      "           F       0.45      0.65      0.53        20\n",
      "\n",
      "    accuracy                           0.74        90\n",
      "   macro avg       0.67      0.71      0.68        90\n",
      "weighted avg       0.79      0.74      0.76        90\n",
      "\n"
     ]
    }
   ],
   "source": [
    "print(classification_report(gnb_model.predict(X_test), y_test,target_names=['T', 'F']))\n",
    "results_df = save_results(gnb_model, X_test, y_test, 'GNB', results_df)"
   ]
  },
  {
   "cell_type": "markdown",
   "metadata": {},
   "source": [
    "En la matriz de confusión observamos aquellos falsos positivos y negativos de nuestro modelo. Dependiendo del contexto seremos más o menos tolerantes a este tipo de fallos."
   ]
  },
  {
   "cell_type": "code",
   "execution_count": 827,
   "metadata": {},
   "outputs": [
    {
     "data": {
      "image/png": "[encoded data removed]",
      "text/plain": [
       "<Figure size 400x400 with 2 Axes>"
      ]
     },
     "metadata": {},
     "output_type": "display_data"
    }
   ],
   "source": [
    "plt.figure(figsize=(4,4));\n",
    "ConfusionMatrixDisplay.from_estimator(gnb_model, X_test,y_test, display_labels=['T', 'F'], ax=plt.subplot());"
   ]
  },
  {
   "cell_type": "markdown",
   "metadata": {},
   "source": [
    "##### Modelo Naive Bayes conjunto de datos logarítmico"
   ]
  },
  {
   "cell_type": "markdown",
   "metadata": {},
   "source": [
    "Seguidamente podemos observar un score de 0.83 del conjunto con escala logarítmica, vemos una mejoría pequeña"
   ]
  },
  {
   "cell_type": "code",
   "execution_count": 828,
   "metadata": {},
   "outputs": [
    {
     "name": "stdout",
     "output_type": "stream",
     "text": [
      "0.8276190476190475\n"
     ]
    }
   ],
   "source": [
    "gnb = GaussianNB()\n",
    "print(np.mean(cross_val_score(gnb,X_train_log,y_train_log,cv=10)))"
   ]
  },
  {
   "cell_type": "code",
   "execution_count": 829,
   "metadata": {},
   "outputs": [
    {
     "name": "stdout",
     "output_type": "stream",
     "text": [
      "Priors: [0.67942584 0.32057416]\n",
      "Means:\n",
      "\n"
     ]
    },
    {
     "data": {
      "text/html": [
       "<div>\n",
       "<style scoped>\n",
       "    .dataframe tbody tr th:only-of-type {\n",
       "        vertical-align: middle;\n",
       "    }\n",
       "\n",
       "    .dataframe tbody tr th {\n",
       "        vertical-align: top;\n",
       "    }\n",
       "\n",
       "    .dataframe thead th {\n",
       "        text-align: right;\n",
       "    }\n",
       "</style>\n",
       "<table border=\"1\" class=\"dataframe\">\n",
       "  <thead>\n",
       "    <tr style=\"text-align: right;\">\n",
       "      <th></th>\n",
       "      <th>age</th>\n",
       "      <th>anaemia</th>\n",
       "      <th>creatinine_phosphokinase</th>\n",
       "      <th>diabetes</th>\n",
       "      <th>ejection_fraction</th>\n",
       "      <th>high_blood_pressure</th>\n",
       "      <th>platelets</th>\n",
       "      <th>serum_creatinine</th>\n",
       "      <th>serum_sodium</th>\n",
       "      <th>sex</th>\n",
       "      <th>smoking</th>\n",
       "      <th>time</th>\n",
       "    </tr>\n",
       "  </thead>\n",
       "  <tbody>\n",
       "    <tr>\n",
       "      <th>0</th>\n",
       "      <td>0.323005</td>\n",
       "      <td>0.408451</td>\n",
       "      <td>0.431822</td>\n",
       "      <td>0.408451</td>\n",
       "      <td>0.588214</td>\n",
       "      <td>0.323944</td>\n",
       "      <td>0.292357</td>\n",
       "      <td>0.260383</td>\n",
       "      <td>0.691348</td>\n",
       "      <td>0.661972</td>\n",
       "      <td>0.330986</td>\n",
       "      <td>0.829977</td>\n",
       "    </tr>\n",
       "    <tr>\n",
       "      <th>1</th>\n",
       "      <td>0.455541</td>\n",
       "      <td>0.477612</td>\n",
       "      <td>0.459018</td>\n",
       "      <td>0.402985</td>\n",
       "      <td>0.447941</td>\n",
       "      <td>0.447761</td>\n",
       "      <td>0.292377</td>\n",
       "      <td>0.379863</td>\n",
       "      <td>0.628145</td>\n",
       "      <td>0.626866</td>\n",
       "      <td>0.358209</td>\n",
       "      <td>0.589419</td>\n",
       "    </tr>\n",
       "  </tbody>\n",
       "</table>\n",
       "</div>"
      ],
      "text/plain": [
       "        age   anaemia  creatinine_phosphokinase  diabetes  ejection_fraction  \\\n",
       "0  0.323005  0.408451                  0.431822  0.408451           0.588214   \n",
       "1  0.455541  0.477612                  0.459018  0.402985           0.447941   \n",
       "\n",
       "   high_blood_pressure  platelets  serum_creatinine  serum_sodium       sex  \\\n",
       "0             0.323944   0.292357          0.260383      0.691348  0.661972   \n",
       "1             0.447761   0.292377          0.379863      0.628145  0.626866   \n",
       "\n",
       "    smoking      time  \n",
       "0  0.330986  0.829977  \n",
       "1  0.358209  0.589419  "
      ]
     },
     "execution_count": 829,
     "metadata": {},
     "output_type": "execute_result"
    }
   ],
   "source": [
    "gnb_model_log = GaussianNB().fit(X_train_log, y_train_log)\n",
    "\n",
    "print('Priors:', gnb_model_log.class_prior_)\n",
    "print('Means:\\n')\n",
    "means =pd.DataFrame(gnb_model_log.theta_)\n",
    "means.columns=X_train_log.columns\n",
    "means"
   ]
  },
  {
   "cell_type": "markdown",
   "metadata": {},
   "source": [
    "Seguidamente, son adjuntadas diversas puntuaciones que nos permiten hacer una mejor valoración del modelo según sus casos"
   ]
  },
  {
   "cell_type": "code",
   "execution_count": 830,
   "metadata": {},
   "outputs": [
    {
     "name": "stdout",
     "output_type": "stream",
     "text": [
      "              precision    recall  f1-score   support\n",
      "\n",
      "           T       0.84      0.88      0.86        58\n",
      "           F       0.76      0.69      0.72        32\n",
      "\n",
      "    accuracy                           0.81        90\n",
      "   macro avg       0.80      0.78      0.79        90\n",
      "weighted avg       0.81      0.81      0.81        90\n",
      "\n"
     ]
    }
   ],
   "source": [
    "print(classification_report(gnb_model_log.predict(X_test_log), y_test_log,target_names=['T', 'F']))\n",
    "results_df_log = save_results(gnb_model_log, X_test_log, y_test_log, 'GNB Log', results_df_log)"
   ]
  },
  {
   "cell_type": "markdown",
   "metadata": {},
   "source": [
    "Como hemos explicado ya, dependemos del contexto del modelo para dictaminar la tolerancia de los fallos de nuestro modelo"
   ]
  },
  {
   "cell_type": "code",
   "execution_count": 831,
   "metadata": {},
   "outputs": [
    {
     "data": {
      "image/png": "[encoded data removed]",
      "text/plain": [
       "<Figure size 400x400 with 2 Axes>"
      ]
     },
     "metadata": {},
     "output_type": "display_data"
    }
   ],
   "source": [
    "plt.figure(figsize=(4,4));\n",
    "ConfusionMatrixDisplay.from_estimator(gnb_model_log, X_test_log,y_test_log, display_labels=['T', 'F'], ax=plt.subplot());"
   ]
  },
  {
   "cell_type": "markdown",
   "metadata": {},
   "source": [
    "#### Apartado c)"
   ]
  },
  {
   "cell_type": "markdown",
   "metadata": {},
   "source": [
    "##### Modelo LDA conjunto de datos original"
   ]
  },
  {
   "cell_type": "markdown",
   "metadata": {},
   "source": [
    "Seguidamente vamos a efectuar un modelo LDA para ambos conjuntos de datos, primeramente empezaremos por el original"
   ]
  },
  {
   "cell_type": "code",
   "execution_count": 832,
   "metadata": {},
   "outputs": [
    {
     "name": "stdout",
     "output_type": "stream",
     "text": [
      "0.8233333333333333\n"
     ]
    }
   ],
   "source": [
    "lda = LinearDiscriminantAnalysis()\n",
    "print(np.mean(cross_val_score(lda,X_train,y_train,cv=10)))"
   ]
  },
  {
   "cell_type": "markdown",
   "metadata": {},
   "source": [
    "Hemos obtenido buenos resultados ya que tenemos un score 0.83, seguidamente iremos analizando más en profundidad este modelo"
   ]
  },
  {
   "cell_type": "code",
   "execution_count": 833,
   "metadata": {},
   "outputs": [
    {
     "name": "stdout",
     "output_type": "stream",
     "text": [
      "Priors: [0.67942584 0.32057416]\n",
      "Means:\n",
      "\n",
      "Intercepts:\n",
      "Explained Variance Ratio\n",
      "Coefs:\n"
     ]
    },
    {
     "data": {
      "image/png": "[encoded data removed]",
      "text/plain": [
       "<Figure size 2000x200 with 2 Axes>"
      ]
     },
     "metadata": {},
     "output_type": "display_data"
    }
   ],
   "source": [
    "lda_model = LinearDiscriminantAnalysis().fit(X_train, y_train)\n",
    "\n",
    "print('Priors:', lda_model.priors_)\n",
    "print('Means:\\n')\n",
    "means =pd.DataFrame(lda_model.means_)\n",
    "means.columns=X_train.columns\n",
    "means\n",
    "\n",
    "print('Intercepts:')\n",
    "intercepts = pd.DataFrame(lda_model.intercept_)\n",
    "intercepts\n",
    "\n",
    "print('Explained Variance Ratio')\n",
    "pd.DataFrame(lda_model.explained_variance_ratio_ )\n",
    "\n",
    "print('Coefs:')\n",
    "coefs = pd.DataFrame(lda_model.coef_)\n",
    "coefs.columns = X_train.columns\n",
    "# coefs.T\n",
    "\n",
    "plt.figure(figsize=(20,2));\n",
    "sns.heatmap(coefs.abs(),annot=True, linewidths=.5,cbar=True,xticklabels=True, cmap='Blues', annot_kws={'size':12});"
   ]
  },
  {
   "cell_type": "markdown",
   "metadata": {},
   "source": [
    "Podemos ver en el modelo cuales son los atributos más importantes. Para saber la calidad del modelo podemos aplicarlo a los datos de test."
   ]
  },
  {
   "cell_type": "code",
   "execution_count": 834,
   "metadata": {},
   "outputs": [
    {
     "name": "stdout",
     "output_type": "stream",
     "text": [
      "              precision    recall  f1-score   support\n",
      "\n",
      "           T       0.87      0.87      0.87        61\n",
      "           F       0.72      0.72      0.72        29\n",
      "\n",
      "    accuracy                           0.82        90\n",
      "   macro avg       0.80      0.80      0.80        90\n",
      "weighted avg       0.82      0.82      0.82        90\n",
      "\n"
     ]
    }
   ],
   "source": [
    "print(classification_report(lda_model.predict(X_test), y_test,target_names=['T', 'F']))\n",
    "results_df = save_results(lda_model, X_test, y_test, 'LDA', results_df)"
   ]
  },
  {
   "cell_type": "markdown",
   "metadata": {},
   "source": [
    "Observamos la matriz de confusión, para ver qué lado sufre más desviaciones y cómo predice nuestro modelo. Dependiendo de la necesidad que tengamos deberemos corregir los falsos positivos o no, ya que depende mucho del contexto en el que nos situemos."
   ]
  },
  {
   "cell_type": "code",
   "execution_count": 835,
   "metadata": {},
   "outputs": [
    {
     "data": {
      "image/png": "[encoded data removed]",
      "text/plain": [
       "<Figure size 400x400 with 2 Axes>"
      ]
     },
     "metadata": {},
     "output_type": "display_data"
    }
   ],
   "source": [
    "plt.figure(figsize=(4,4));\n",
    "ConfusionMatrixDisplay.from_estimator(lda_model, X_test,y_test, display_labels=['T', 'F'], ax=plt.subplot());"
   ]
  },
  {
   "cell_type": "markdown",
   "metadata": {},
   "source": [
    "##### Modelo LDA conjunto de datos logarítmico"
   ]
  },
  {
   "cell_type": "markdown",
   "metadata": {},
   "source": [
    "Seguidamente haremos lo mismo pero con el conjunto de datos transformado"
   ]
  },
  {
   "cell_type": "code",
   "execution_count": 836,
   "metadata": {},
   "outputs": [
    {
     "name": "stdout",
     "output_type": "stream",
     "text": [
      "0.8469047619047618\n"
     ]
    }
   ],
   "source": [
    "lda = LinearDiscriminantAnalysis()\n",
    "print(np.mean(cross_val_score(lda,X_train_log,y_train_log,cv=10)))"
   ]
  },
  {
   "cell_type": "markdown",
   "metadata": {},
   "source": [
    "Observamos una mejoría bastante pequeña respecto al modelo original"
   ]
  },
  {
   "cell_type": "code",
   "execution_count": 837,
   "metadata": {},
   "outputs": [
    {
     "name": "stdout",
     "output_type": "stream",
     "text": [
      "Priors: [0.67942584 0.32057416]\n",
      "Means:\n",
      "\n",
      "Intercepts:\n",
      "Explained Variance Ratio\n",
      "Coefs:\n"
     ]
    },
    {
     "data": {
      "image/png": "[encoded data removed]",
      "text/plain": [
       "<Figure size 2000x200 with 2 Axes>"
      ]
     },
     "metadata": {},
     "output_type": "display_data"
    }
   ],
   "source": [
    "lda_model_log = LinearDiscriminantAnalysis().fit(X_train_log, y_train_log)\n",
    "\n",
    "print('Priors:', lda_model_log.priors_)\n",
    "print('Means:\\n')\n",
    "means =pd.DataFrame(lda_model_log.means_)\n",
    "means.columns=X_train_log.columns\n",
    "means\n",
    "\n",
    "print('Intercepts:')\n",
    "intercepts = pd.DataFrame(lda_model_log.intercept_)\n",
    "intercepts\n",
    "\n",
    "print('Explained Variance Ratio')\n",
    "pd.DataFrame(lda_model_log.explained_variance_ratio_ )\n",
    "\n",
    "print('Coefs:')\n",
    "coefs = pd.DataFrame(lda_model_log.coef_)\n",
    "coefs.columns = X_train_log.columns\n",
    "# coefs.T\n",
    "\n",
    "plt.figure(figsize=(20,2));\n",
    "sns.heatmap(coefs.abs(),annot=True, linewidths=.5,cbar=True,xticklabels=True, cmap='Blues', annot_kws={'size':12});"
   ]
  },
  {
   "cell_type": "markdown",
   "metadata": {},
   "source": [
    "Podemos observar aquellos coeficientes que han influenciado más a nuestro modelo"
   ]
  },
  {
   "cell_type": "code",
   "execution_count": 838,
   "metadata": {},
   "outputs": [
    {
     "name": "stdout",
     "output_type": "stream",
     "text": [
      "              precision    recall  f1-score   support\n",
      "\n",
      "           T       0.90      0.86      0.88        64\n",
      "           F       0.69      0.77      0.73        26\n",
      "\n",
      "    accuracy                           0.83        90\n",
      "   macro avg       0.80      0.81      0.80        90\n",
      "weighted avg       0.84      0.83      0.84        90\n",
      "\n"
     ]
    }
   ],
   "source": [
    "print(classification_report(lda_model_log.predict(X_test_log), y_test_log,target_names=['T', 'F']))\n",
    "results_df_log = save_results(lda_model_log, X_test_log, y_test_log, 'LDA Log', results_df_log)"
   ]
  },
  {
   "cell_type": "markdown",
   "metadata": {},
   "source": [
    "Observamos la matriz de confusión, para ver qué lado sufre más desviaciones y cómo predice nuestro modelo. Dependiendo de la necesidad que tengamos deberemos corregir los falsos positivos o no, ya que depende mucho del contexto en el que nos situemos.\n",
    "\n",
    "En este caso, la diferencia entre el conjunto de datos original y este es mínima."
   ]
  },
  {
   "cell_type": "code",
   "execution_count": 839,
   "metadata": {},
   "outputs": [
    {
     "data": {
      "image/png": "[encoded data removed]",
      "text/plain": [
       "<Figure size 400x400 with 2 Axes>"
      ]
     },
     "metadata": {},
     "output_type": "display_data"
    }
   ],
   "source": [
    "plt.figure(figsize=(4,4));\n",
    "ConfusionMatrixDisplay.from_estimator(lda_model_log, X_test_log,y_test_log, display_labels=['T', 'F'], ax=plt.subplot());"
   ]
  },
  {
   "cell_type": "markdown",
   "metadata": {},
   "source": [
    "#### Apartado d)"
   ]
  },
  {
   "cell_type": "markdown",
   "metadata": {},
   "source": [
    "##### Modelo Regresión Logística conjunto de datos original"
   ]
  },
  {
   "cell_type": "markdown",
   "metadata": {},
   "source": [
    "Seguidamente procederemos a entrenar un modelo de regresión logística en nuestros datos originales"
   ]
  },
  {
   "cell_type": "code",
   "execution_count": 840,
   "metadata": {},
   "outputs": [
    {
     "name": "stdout",
     "output_type": "stream",
     "text": [
      "0.8135714285714286\n"
     ]
    }
   ],
   "source": [
    "lr = LogisticRegression(max_iter=1000,)\n",
    "print(np.mean(cross_val_score(lr,X_train,y_train,cv=10)))"
   ]
  },
  {
   "cell_type": "code",
   "execution_count": 841,
   "metadata": {},
   "outputs": [],
   "source": [
    "param = {'penalty':['l2'], 'C':10**np.linspace(-3,3,21, endpoint=True)}\n",
    "lr_gs =  GridSearchCV(lr,param,cv=10, n_jobs=-1, refit=True)\n",
    "lr_gs.fit(X_train, y_train);"
   ]
  },
  {
   "cell_type": "markdown",
   "metadata": {},
   "source": [
    "Podemos observar que la mejor C es 15.8489 y la mejor penalty es l2, estas hacen que nuestros resultados sean óptimos."
   ]
  },
  {
   "cell_type": "code",
   "execution_count": 842,
   "metadata": {},
   "outputs": [
    {
     "data": {
      "text/html": [
       "<table border=\"1\" class=\"dataframe\">\n",
       "  <thead>\n",
       "    <tr style=\"text-align: right;\">\n",
       "      <th></th>\n",
       "      <th>params</th>\n",
       "      <th>mean_test_score</th>\n",
       "      <th>rank_test_score</th>\n",
       "    </tr>\n",
       "  </thead>\n",
       "  <tbody>\n",
       "    <tr>\n",
       "      <th>14</th>\n",
       "      <td>{'C': 15.848931924611142, 'penalty': 'l2'}</td>\n",
       "      <td>0.828095</td>\n",
       "      <td>1</td>\n",
       "    </tr>\n",
       "    <tr>\n",
       "      <th>15</th>\n",
       "      <td>{'C': 31.622776601683793, 'penalty': 'l2'}</td>\n",
       "      <td>0.823333</td>\n",
       "      <td>2</td>\n",
       "    </tr>\n",
       "    <tr>\n",
       "      <th>13</th>\n",
       "      <td>{'C': 7.943282347242813, 'penalty': 'l2'}</td>\n",
       "      <td>0.823333</td>\n",
       "      <td>2</td>\n",
       "    </tr>\n",
       "    <tr>\n",
       "      <th>12</th>\n",
       "      <td>{'C': 3.981071705534969, 'penalty': 'l2'}</td>\n",
       "      <td>0.823095</td>\n",
       "      <td>4</td>\n",
       "    </tr>\n",
       "    <tr>\n",
       "      <th>11</th>\n",
       "      <td>{'C': 1.9952623149688788, 'penalty': 'l2'}</td>\n",
       "      <td>0.823095</td>\n",
       "      <td>4</td>\n",
       "    </tr>\n",
       "  </tbody>\n",
       "</table>"
      ],
      "text/plain": [
       "<IPython.core.display.HTML object>"
      ]
     },
     "metadata": {},
     "output_type": "display_data"
    }
   ],
   "source": [
    "show_html(pd.DataFrame(lr_gs.cv_results_).loc[:,['params', 'mean_test_score','rank_test_score']].sort_values(by='rank_test_score').head().to_html())"
   ]
  },
  {
   "cell_type": "code",
   "execution_count": 843,
   "metadata": {},
   "outputs": [
    {
     "name": "stdout",
     "output_type": "stream",
     "text": [
      "Coefs:\n"
     ]
    },
    {
     "data": {
      "image/png": "[encoded data removed]",
      "text/plain": [
       "<Figure size 2000x200 with 2 Axes>"
      ]
     },
     "metadata": {},
     "output_type": "display_data"
    }
   ],
   "source": [
    "print('Coefs:')\n",
    "coefs = pd.DataFrame(lr_gs.best_estimator_.coef_)\n",
    "coefs.columns = X.columns\n",
    "\n",
    "plt.figure(figsize=(20,2));\n",
    "sns.heatmap(coefs.abs(),annot=True, linewidths=.5,cbar=True,xticklabels=True, cmap='Blues', annot_kws={'size':12});"
   ]
  },
  {
   "cell_type": "code",
   "execution_count": 844,
   "metadata": {},
   "outputs": [
    {
     "name": "stdout",
     "output_type": "stream",
     "text": [
      "              precision    recall  f1-score   support\n",
      "\n",
      "           T       0.87      0.87      0.87        61\n",
      "           F       0.72      0.72      0.72        29\n",
      "\n",
      "    accuracy                           0.82        90\n",
      "   macro avg       0.80      0.80      0.80        90\n",
      "weighted avg       0.82      0.82      0.82        90\n",
      "\n"
     ]
    }
   ],
   "source": [
    "print(classification_report(lr_gs.predict(X_test), y_test,target_names=['T', 'F']))\n",
    "results_df = save_results(lr_gs, X_test, y_test, 'Logistic', results_df)"
   ]
  },
  {
   "cell_type": "markdown",
   "metadata": {},
   "source": [
    "Observamos los resultados que compararemos al final del todo"
   ]
  },
  {
   "cell_type": "code",
   "execution_count": 845,
   "metadata": {},
   "outputs": [
    {
     "data": {
      "image/png": "[encoded data removed]",
      "text/plain": [
       "<Figure size 400x400 with 2 Axes>"
      ]
     },
     "metadata": {},
     "output_type": "display_data"
    }
   ],
   "source": [
    "plt.figure(figsize=(4,4));\n",
    "ConfusionMatrixDisplay.from_estimator(lr_gs, X_test,y_test, display_labels=['T', 'F'], ax=plt.subplot());"
   ]
  },
  {
   "cell_type": "markdown",
   "metadata": {},
   "source": [
    "##### Modelo Regresión Logística conjunto de datos logarítmico"
   ]
  },
  {
   "cell_type": "markdown",
   "metadata": {},
   "source": [
    "Haremos lo mismo pero para nuestros datos con logaritmos"
   ]
  },
  {
   "cell_type": "code",
   "execution_count": 846,
   "metadata": {},
   "outputs": [
    {
     "name": "stdout",
     "output_type": "stream",
     "text": [
      "0.8135714285714286\n"
     ]
    }
   ],
   "source": [
    "lr = LogisticRegression(max_iter=1000)\n",
    "print(np.mean(cross_val_score(lr,X_train_log,y_train_log,cv=10)))"
   ]
  },
  {
   "cell_type": "code",
   "execution_count": 847,
   "metadata": {},
   "outputs": [],
   "source": [
    "param = {'penalty':['l2'], 'C':10**np.linspace(-3,3,21, endpoint=True)}\n",
    "lr_gs_log =  GridSearchCV(lr,param,cv=10, n_jobs=-1, refit=True)\n",
    "lr_gs_log.fit(X_train_log, y_train_log);"
   ]
  },
  {
   "cell_type": "markdown",
   "metadata": {},
   "source": [
    "Encontramos que la C óptima es 31.6227766 y la mejor penalty l2"
   ]
  },
  {
   "cell_type": "code",
   "execution_count": 848,
   "metadata": {},
   "outputs": [
    {
     "data": {
      "text/html": [
       "<table border=\"1\" class=\"dataframe\">\n",
       "  <thead>\n",
       "    <tr style=\"text-align: right;\">\n",
       "      <th></th>\n",
       "      <th>params</th>\n",
       "      <th>mean_test_score</th>\n",
       "      <th>rank_test_score</th>\n",
       "    </tr>\n",
       "  </thead>\n",
       "  <tbody>\n",
       "    <tr>\n",
       "      <th>15</th>\n",
       "      <td>{'C': 31.622776601683793, 'penalty': 'l2'}</td>\n",
       "      <td>0.851905</td>\n",
       "      <td>1</td>\n",
       "    </tr>\n",
       "    <tr>\n",
       "      <th>14</th>\n",
       "      <td>{'C': 15.848931924611142, 'penalty': 'l2'}</td>\n",
       "      <td>0.851905</td>\n",
       "      <td>1</td>\n",
       "    </tr>\n",
       "    <tr>\n",
       "      <th>20</th>\n",
       "      <td>{'C': 1000.0, 'penalty': 'l2'}</td>\n",
       "      <td>0.847143</td>\n",
       "      <td>3</td>\n",
       "    </tr>\n",
       "    <tr>\n",
       "      <th>18</th>\n",
       "      <td>{'C': 251.18864315095772, 'penalty': 'l2'}</td>\n",
       "      <td>0.847143</td>\n",
       "      <td>3</td>\n",
       "    </tr>\n",
       "    <tr>\n",
       "      <th>17</th>\n",
       "      <td>{'C': 125.89254117941663, 'penalty': 'l2'}</td>\n",
       "      <td>0.847143</td>\n",
       "      <td>3</td>\n",
       "    </tr>\n",
       "  </tbody>\n",
       "</table>"
      ],
      "text/plain": [
       "<IPython.core.display.HTML object>"
      ]
     },
     "metadata": {},
     "output_type": "display_data"
    }
   ],
   "source": [
    "show_html(pd.DataFrame(lr_gs_log.cv_results_).loc[:,['params', 'mean_test_score','rank_test_score']].sort_values(by='rank_test_score').head().to_html())"
   ]
  },
  {
   "cell_type": "code",
   "execution_count": 849,
   "metadata": {},
   "outputs": [
    {
     "name": "stdout",
     "output_type": "stream",
     "text": [
      "Coefs:\n"
     ]
    },
    {
     "data": {
      "image/png": "[encoded data removed]",
      "text/plain": [
       "<Figure size 2000x200 with 2 Axes>"
      ]
     },
     "metadata": {},
     "output_type": "display_data"
    }
   ],
   "source": [
    "print('Coefs:')\n",
    "coefs = pd.DataFrame(lr_gs_log.best_estimator_.coef_)\n",
    "coefs.columns = X.columns\n",
    "\n",
    "plt.figure(figsize=(20,2));\n",
    "sns.heatmap(coefs.abs(),annot=True, linewidths=.5,cbar=True,xticklabels=True, cmap='Blues', annot_kws={'size':12});"
   ]
  },
  {
   "cell_type": "code",
   "execution_count": 850,
   "metadata": {},
   "outputs": [
    {
     "name": "stdout",
     "output_type": "stream",
     "text": [
      "              precision    recall  f1-score   support\n",
      "\n",
      "           T       0.90      0.87      0.89        63\n",
      "           F       0.72      0.78      0.75        27\n",
      "\n",
      "    accuracy                           0.84        90\n",
      "   macro avg       0.81      0.83      0.82        90\n",
      "weighted avg       0.85      0.84      0.85        90\n",
      "\n"
     ]
    }
   ],
   "source": [
    "print(classification_report(lr_gs_log.predict(X_test_log), y_test_log,target_names=['T', 'F']))\n",
    "results_df_log = save_results(lr_gs_log, X_test_log, y_test_log, 'Logistic Log', results_df_log)"
   ]
  },
  {
   "cell_type": "markdown",
   "metadata": {},
   "source": [
    "Obtenemos los siguientes resultados muy similares a los del modelo LDA"
   ]
  },
  {
   "cell_type": "code",
   "execution_count": 851,
   "metadata": {},
   "outputs": [
    {
     "data": {
      "image/png": "[encoded data removed]",
      "text/plain": [
       "<Figure size 400x400 with 2 Axes>"
      ]
     },
     "metadata": {},
     "output_type": "display_data"
    }
   ],
   "source": [
    "plt.figure(figsize=(4,4));\n",
    "ConfusionMatrixDisplay.from_estimator(lr_gs_log, X_test_log,y_test_log, display_labels=['T', 'F'], ax=plt.subplot());"
   ]
  },
  {
   "cell_type": "markdown",
   "metadata": {},
   "source": [
    "##### Modelo Regresión Logística conjunto de datos original balanceado"
   ]
  },
  {
   "cell_type": "markdown",
   "metadata": {},
   "source": [
    "Seguidamente, ajustaremos una regresión logística balanceada para cada una de nuestros conjuntos"
   ]
  },
  {
   "cell_type": "code",
   "execution_count": 852,
   "metadata": {},
   "outputs": [
    {
     "name": "stdout",
     "output_type": "stream",
     "text": [
      "0.7799999999999999\n"
     ]
    }
   ],
   "source": [
    "lrB = LogisticRegression(max_iter=1000, class_weight='balanced')\n",
    "print(np.mean(cross_val_score(lrB,X_train,y_train,cv=10)))"
   ]
  },
  {
   "cell_type": "code",
   "execution_count": 853,
   "metadata": {},
   "outputs": [],
   "source": [
    "param = {'penalty':['l2'], 'C':10**np.linspace(-3,3,21, endpoint=True)}\n",
    "lr_gs =  GridSearchCV(lrB,param,cv=10, n_jobs=-1, refit=True)\n",
    "lr_gs.fit(X_train, y_train);"
   ]
  },
  {
   "cell_type": "code",
   "execution_count": 854,
   "metadata": {},
   "outputs": [
    {
     "name": "stdout",
     "output_type": "stream",
     "text": [
      "              precision    recall  f1-score   support\n",
      "\n",
      "           T       0.77      0.87      0.82        54\n",
      "           F       0.76      0.61      0.68        36\n",
      "\n",
      "    accuracy                           0.77        90\n",
      "   macro avg       0.76      0.74      0.75        90\n",
      "weighted avg       0.77      0.77      0.76        90\n",
      "\n"
     ]
    }
   ],
   "source": [
    "print(classification_report(lr_gs.predict(X_test), y_test,target_names=['T', 'F']))\n",
    "results_df = save_results(lr_gs, X_test, y_test, 'Logistic Balanced', results_df)"
   ]
  },
  {
   "cell_type": "markdown",
   "metadata": {},
   "source": [
    "##### Modelo Regresión Logística conjunto de datos logarítmico balanceado"
   ]
  },
  {
   "cell_type": "code",
   "execution_count": 855,
   "metadata": {},
   "outputs": [
    {
     "name": "stdout",
     "output_type": "stream",
     "text": [
      "0.8371428571428572\n"
     ]
    }
   ],
   "source": [
    "lrB = LogisticRegression(max_iter=1000, class_weight='balanced')\n",
    "print(np.mean(cross_val_score(lrB,X_train_log,y_train_log,cv=10)))"
   ]
  },
  {
   "cell_type": "code",
   "execution_count": 856,
   "metadata": {},
   "outputs": [],
   "source": [
    "param = {'penalty':['l2'], 'C':10**np.linspace(-3,3,21, endpoint=True)}\n",
    "lr_gs_log =  GridSearchCV(lrB,param,cv=10, n_jobs=-1, refit=True)\n",
    "lr_gs_log.fit(X_train_log, y_train_log);"
   ]
  },
  {
   "cell_type": "code",
   "execution_count": 857,
   "metadata": {},
   "outputs": [
    {
     "name": "stdout",
     "output_type": "stream",
     "text": [
      "              precision    recall  f1-score   support\n",
      "\n",
      "           T       0.82      0.89      0.85        56\n",
      "           F       0.79      0.68      0.73        34\n",
      "\n",
      "    accuracy                           0.81        90\n",
      "   macro avg       0.81      0.78      0.79        90\n",
      "weighted avg       0.81      0.81      0.81        90\n",
      "\n"
     ]
    }
   ],
   "source": [
    "print(classification_report(lr_gs_log.predict(X_test_log), y_test_log,target_names=['T', 'F']))\n",
    "results_df_log = save_results(lr_gs_log, X_test_log, y_test_log, 'Logistic Log Balanced', results_df_log)"
   ]
  },
  {
   "cell_type": "markdown",
   "metadata": {},
   "source": [
    "##### Resultados"
   ]
  },
  {
   "cell_type": "markdown",
   "metadata": {},
   "source": [
    "Finalmente aquí tenemos los resultados de nuestros conjuntos, podemos observar que los resultados de los modelos LDA y de regresión logística son ambos MUY similares, sin embargo, he podido comprobar que por muy poco un modelo de regresión logística funciona mejor en estos casos. También, he podido comprobar que si ajustamos los datos a una distribución gaussiana obtendremos mejores resultado que si no lo hiciéramos, por lo tanto, hemos comparado y demostrado qué modelo funciona mejor en estos casos y cómo debemos preprocesar y balancear los datos para obtener unos resultados óptimos."
   ]
  },
  {
   "cell_type": "code",
   "execution_count": 858,
   "metadata": {},
   "outputs": [
    {
     "data": {
      "text/html": [
       "<div>\n",
       "<style scoped>\n",
       "    .dataframe tbody tr th:only-of-type {\n",
       "        vertical-align: middle;\n",
       "    }\n",
       "\n",
       "    .dataframe tbody tr th {\n",
       "        vertical-align: top;\n",
       "    }\n",
       "\n",
       "    .dataframe thead th {\n",
       "        text-align: right;\n",
       "    }\n",
       "</style>\n",
       "<table border=\"1\" class=\"dataframe\">\n",
       "  <thead>\n",
       "    <tr style=\"text-align: right;\">\n",
       "      <th></th>\n",
       "      <th>test acc</th>\n",
       "      <th>precision score (W)</th>\n",
       "      <th>recall score (W)</th>\n",
       "      <th>f1 score (W)</th>\n",
       "    </tr>\n",
       "  </thead>\n",
       "  <tbody>\n",
       "    <tr>\n",
       "      <th>LDA</th>\n",
       "      <td>0.822222</td>\n",
       "      <td>0.822222</td>\n",
       "      <td>0.822222</td>\n",
       "      <td>0.822222</td>\n",
       "    </tr>\n",
       "    <tr>\n",
       "      <th>Logistic</th>\n",
       "      <td>0.822222</td>\n",
       "      <td>0.822222</td>\n",
       "      <td>0.822222</td>\n",
       "      <td>0.822222</td>\n",
       "    </tr>\n",
       "    <tr>\n",
       "      <th>Logistic Balanced</th>\n",
       "      <td>0.766667</td>\n",
       "      <td>0.786831</td>\n",
       "      <td>0.766667</td>\n",
       "      <td>0.772129</td>\n",
       "    </tr>\n",
       "    <tr>\n",
       "      <th>GNB</th>\n",
       "      <td>0.744444</td>\n",
       "      <td>0.732302</td>\n",
       "      <td>0.744444</td>\n",
       "      <td>0.729754</td>\n",
       "    </tr>\n",
       "  </tbody>\n",
       "</table>\n",
       "</div>"
      ],
      "text/plain": [
       "                   test acc  precision score (W)  recall score (W)  \\\n",
       "LDA                0.822222             0.822222          0.822222   \n",
       "Logistic           0.822222             0.822222          0.822222   \n",
       "Logistic Balanced  0.766667             0.786831          0.766667   \n",
       "GNB                0.744444             0.732302          0.744444   \n",
       "\n",
       "                   f1 score (W)  \n",
       "LDA                    0.822222  \n",
       "Logistic               0.822222  \n",
       "Logistic Balanced      0.772129  \n",
       "GNB                    0.729754  "
      ]
     },
     "execution_count": 858,
     "metadata": {},
     "output_type": "execute_result"
    }
   ],
   "source": [
    "results_df.sort_values(by=['test acc'], ascending=False)"
   ]
  },
  {
   "cell_type": "code",
   "execution_count": 859,
   "metadata": {},
   "outputs": [
    {
     "data": {
      "text/html": [
       "<div>\n",
       "<style scoped>\n",
       "    .dataframe tbody tr th:only-of-type {\n",
       "        vertical-align: middle;\n",
       "    }\n",
       "\n",
       "    .dataframe tbody tr th {\n",
       "        vertical-align: top;\n",
       "    }\n",
       "\n",
       "    .dataframe thead th {\n",
       "        text-align: right;\n",
       "    }\n",
       "</style>\n",
       "<table border=\"1\" class=\"dataframe\">\n",
       "  <thead>\n",
       "    <tr style=\"text-align: right;\">\n",
       "      <th></th>\n",
       "      <th>test acc</th>\n",
       "      <th>precision score (W)</th>\n",
       "      <th>recall score (W)</th>\n",
       "      <th>f1 score (W)</th>\n",
       "    </tr>\n",
       "  </thead>\n",
       "  <tbody>\n",
       "    <tr>\n",
       "      <th>Logistic Log</th>\n",
       "      <td>0.844444</td>\n",
       "      <td>0.842328</td>\n",
       "      <td>0.844444</td>\n",
       "      <td>0.842921</td>\n",
       "    </tr>\n",
       "    <tr>\n",
       "      <th>LDA Log</th>\n",
       "      <td>0.833333</td>\n",
       "      <td>0.830329</td>\n",
       "      <td>0.833333</td>\n",
       "      <td>0.830788</td>\n",
       "    </tr>\n",
       "    <tr>\n",
       "      <th>GNB Log</th>\n",
       "      <td>0.811111</td>\n",
       "      <td>0.817505</td>\n",
       "      <td>0.811111</td>\n",
       "      <td>0.813375</td>\n",
       "    </tr>\n",
       "    <tr>\n",
       "      <th>Logistic Log Balanced</th>\n",
       "      <td>0.811111</td>\n",
       "      <td>0.823133</td>\n",
       "      <td>0.811111</td>\n",
       "      <td>0.814571</td>\n",
       "    </tr>\n",
       "  </tbody>\n",
       "</table>\n",
       "</div>"
      ],
      "text/plain": [
       "                       test acc  precision score (W)  recall score (W)  \\\n",
       "Logistic Log           0.844444             0.842328          0.844444   \n",
       "LDA Log                0.833333             0.830329          0.833333   \n",
       "GNB Log                0.811111             0.817505          0.811111   \n",
       "Logistic Log Balanced  0.811111             0.823133          0.811111   \n",
       "\n",
       "                       f1 score (W)  \n",
       "Logistic Log               0.842921  \n",
       "LDA Log                    0.830788  \n",
       "GNB Log                    0.813375  \n",
       "Logistic Log Balanced      0.814571  "
      ]
     },
     "execution_count": 859,
     "metadata": {},
     "output_type": "execute_result"
    }
   ],
   "source": [
    "results_df_log.sort_values(by=['test acc'], ascending=False)"
   ]
  }
 ],
 "metadata": {
  "kernelspec": {
   "display_name": "Python 3.10.7 64-bit",
   "language": "python",
   "name": "python3"
  },
  "language_info": {
   "codemirror_mode": {
    "name": "ipython",
    "version": 3
   },
   "file_extension": ".py",
   "mimetype": "text/x-python",
   "name": "python",
   "nbconvert_exporter": "python",
   "pygments_lexer": "ipython3",
   "version": "3.10.7"
  },
  "orig_nbformat": 4,
  "vscode": {
   "interpreter": {
    "hash": "19cb8e40392df2a53875753c3935dc49710f6efd52edf25b857f5d36c4b5ea25"
   }
  }
 },
 "nbformat": 4,
 "nbformat_minor": 2
}
