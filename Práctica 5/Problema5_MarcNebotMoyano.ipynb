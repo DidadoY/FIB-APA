{
 "cells": [
  {
   "attachments": {},
   "cell_type": "markdown",
   "metadata": {},
   "source": [
    "## Problema 5 - Diagnóstico por la escritura\n",
    "\n",
    "#### Marc Nebot Moyano"
   ]
  },
  {
   "attachments": {},
   "cell_type": "markdown",
   "metadata": {},
   "source": [
    "#### Librerías necesarias"
   ]
  },
  {
   "cell_type": "code",
   "execution_count": null,
   "metadata": {},
   "outputs": [],
   "source": [
    "from apafib import load_darwin\n",
    "from sklearn.model_selection import train_test_split, cross_val_score\n",
    "import seaborn as sns\n",
    "import numpy as np\n",
    "import matplotlib.pyplot as plt\n",
    "from sklearn.ensemble import VotingClassifier\n",
    "from sklearn.decomposition import PCA\n",
    "from sklearn.svm import LinearSVC, SVC\n",
    "import pandas as pd\n",
    "from sklearn.metrics import accuracy_score\n",
    "from sklearn.preprocessing import StandardScaler\n",
    "from sklearn.metrics import  ConfusionMatrixDisplay,\\\n",
    "                  classification_report,  RocCurveDisplay, PrecisionRecallDisplay,\\\n",
    "                    accuracy_score, f1_score, precision_score, recall_score\n",
    "from sklearn.naive_bayes import GaussianNB\n",
    "from skopt import BayesSearchCV\n",
    "from sklearn.model_selection import GridSearchCV\n",
    "from IPython.display import display, HTML\n",
    "from sklearn.ensemble import RandomForestClassifier, BaggingClassifier, GradientBoostingClassifier\n",
    "show_html = lambda html: display(HTML(html))"
   ]
  },
  {
   "attachments": {},
   "cell_type": "markdown",
   "metadata": {},
   "source": [
    "#### Apartado a)"
   ]
  },
  {
   "attachments": {},
   "cell_type": "markdown",
   "metadata": {},
   "source": [
    "##### Carga de datos"
   ]
  },
  {
   "attachments": {},
   "cell_type": "markdown",
   "metadata": {},
   "source": [
    "Cargaremos los datos a continuación"
   ]
  },
  {
   "cell_type": "code",
   "execution_count": null,
   "metadata": {},
   "outputs": [
    {
     "data": {
      "text/html": [
       "<div>\n",
       "<style scoped>\n",
       "    .dataframe tbody tr th:only-of-type {\n",
       "        vertical-align: middle;\n",
       "    }\n",
       "\n",
       "    .dataframe tbody tr th {\n",
       "        vertical-align: top;\n",
       "    }\n",
       "\n",
       "    .dataframe thead th {\n",
       "        text-align: right;\n",
       "    }\n",
       "</style>\n",
       "<table border=\"1\" class=\"dataframe\">\n",
       "  <thead>\n",
       "    <tr style=\"text-align: right;\">\n",
       "      <th></th>\n",
       "      <th>ID</th>\n",
       "      <th>air_time1</th>\n",
       "      <th>disp_index1</th>\n",
       "      <th>gmrt_in_air1</th>\n",
       "      <th>gmrt_on_paper1</th>\n",
       "      <th>max_x_extension1</th>\n",
       "      <th>max_y_extension1</th>\n",
       "      <th>mean_acc_in_air1</th>\n",
       "      <th>mean_acc_on_paper1</th>\n",
       "      <th>mean_gmrt1</th>\n",
       "      <th>...</th>\n",
       "      <th>mean_jerk_in_air25</th>\n",
       "      <th>mean_jerk_on_paper25</th>\n",
       "      <th>mean_speed_in_air25</th>\n",
       "      <th>mean_speed_on_paper25</th>\n",
       "      <th>num_of_pendown25</th>\n",
       "      <th>paper_time25</th>\n",
       "      <th>pressure_mean25</th>\n",
       "      <th>pressure_var25</th>\n",
       "      <th>total_time25</th>\n",
       "      <th>class</th>\n",
       "    </tr>\n",
       "  </thead>\n",
       "  <tbody>\n",
       "    <tr>\n",
       "      <th>0</th>\n",
       "      <td>id_1</td>\n",
       "      <td>5160</td>\n",
       "      <td>0.000013</td>\n",
       "      <td>120.804174</td>\n",
       "      <td>86.853334</td>\n",
       "      <td>957</td>\n",
       "      <td>6601</td>\n",
       "      <td>0.361800</td>\n",
       "      <td>0.217459</td>\n",
       "      <td>103.828754</td>\n",
       "      <td>...</td>\n",
       "      <td>0.141434</td>\n",
       "      <td>0.024471</td>\n",
       "      <td>5.596487</td>\n",
       "      <td>3.184589</td>\n",
       "      <td>71</td>\n",
       "      <td>40120</td>\n",
       "      <td>1749.278166</td>\n",
       "      <td>296102.7676</td>\n",
       "      <td>144605</td>\n",
       "      <td>P</td>\n",
       "    </tr>\n",
       "    <tr>\n",
       "      <th>1</th>\n",
       "      <td>id_2</td>\n",
       "      <td>51980</td>\n",
       "      <td>0.000016</td>\n",
       "      <td>115.318238</td>\n",
       "      <td>83.448681</td>\n",
       "      <td>1694</td>\n",
       "      <td>6998</td>\n",
       "      <td>0.272513</td>\n",
       "      <td>0.144880</td>\n",
       "      <td>99.383459</td>\n",
       "      <td>...</td>\n",
       "      <td>0.049663</td>\n",
       "      <td>0.018368</td>\n",
       "      <td>1.665973</td>\n",
       "      <td>0.950249</td>\n",
       "      <td>129</td>\n",
       "      <td>126700</td>\n",
       "      <td>1504.768272</td>\n",
       "      <td>278744.2850</td>\n",
       "      <td>298640</td>\n",
       "      <td>P</td>\n",
       "    </tr>\n",
       "    <tr>\n",
       "      <th>2</th>\n",
       "      <td>id_3</td>\n",
       "      <td>2600</td>\n",
       "      <td>0.000010</td>\n",
       "      <td>229.933997</td>\n",
       "      <td>172.761858</td>\n",
       "      <td>2333</td>\n",
       "      <td>5802</td>\n",
       "      <td>0.387020</td>\n",
       "      <td>0.181342</td>\n",
       "      <td>201.347928</td>\n",
       "      <td>...</td>\n",
       "      <td>0.178194</td>\n",
       "      <td>0.017174</td>\n",
       "      <td>4.000781</td>\n",
       "      <td>2.392521</td>\n",
       "      <td>74</td>\n",
       "      <td>45480</td>\n",
       "      <td>1431.443492</td>\n",
       "      <td>144411.7055</td>\n",
       "      <td>79025</td>\n",
       "      <td>P</td>\n",
       "    </tr>\n",
       "    <tr>\n",
       "      <th>3</th>\n",
       "      <td>id_4</td>\n",
       "      <td>2130</td>\n",
       "      <td>0.000010</td>\n",
       "      <td>369.403342</td>\n",
       "      <td>183.193104</td>\n",
       "      <td>1756</td>\n",
       "      <td>8159</td>\n",
       "      <td>0.556879</td>\n",
       "      <td>0.164502</td>\n",
       "      <td>276.298223</td>\n",
       "      <td>...</td>\n",
       "      <td>0.113905</td>\n",
       "      <td>0.019860</td>\n",
       "      <td>4.206746</td>\n",
       "      <td>1.613522</td>\n",
       "      <td>123</td>\n",
       "      <td>67945</td>\n",
       "      <td>1465.843329</td>\n",
       "      <td>230184.7154</td>\n",
       "      <td>181220</td>\n",
       "      <td>P</td>\n",
       "    </tr>\n",
       "    <tr>\n",
       "      <th>4</th>\n",
       "      <td>id_5</td>\n",
       "      <td>2310</td>\n",
       "      <td>0.000007</td>\n",
       "      <td>257.997131</td>\n",
       "      <td>111.275889</td>\n",
       "      <td>987</td>\n",
       "      <td>4732</td>\n",
       "      <td>0.266077</td>\n",
       "      <td>0.145104</td>\n",
       "      <td>184.636510</td>\n",
       "      <td>...</td>\n",
       "      <td>0.121782</td>\n",
       "      <td>0.020872</td>\n",
       "      <td>3.319036</td>\n",
       "      <td>1.680629</td>\n",
       "      <td>92</td>\n",
       "      <td>37285</td>\n",
       "      <td>1841.702561</td>\n",
       "      <td>158290.0255</td>\n",
       "      <td>72575</td>\n",
       "      <td>P</td>\n",
       "    </tr>\n",
       "    <tr>\n",
       "      <th>...</th>\n",
       "      <td>...</td>\n",
       "      <td>...</td>\n",
       "      <td>...</td>\n",
       "      <td>...</td>\n",
       "      <td>...</td>\n",
       "      <td>...</td>\n",
       "      <td>...</td>\n",
       "      <td>...</td>\n",
       "      <td>...</td>\n",
       "      <td>...</td>\n",
       "      <td>...</td>\n",
       "      <td>...</td>\n",
       "      <td>...</td>\n",
       "      <td>...</td>\n",
       "      <td>...</td>\n",
       "      <td>...</td>\n",
       "      <td>...</td>\n",
       "      <td>...</td>\n",
       "      <td>...</td>\n",
       "      <td>...</td>\n",
       "      <td>...</td>\n",
       "    </tr>\n",
       "    <tr>\n",
       "      <th>169</th>\n",
       "      <td>id_170</td>\n",
       "      <td>2930</td>\n",
       "      <td>0.000010</td>\n",
       "      <td>241.736477</td>\n",
       "      <td>176.115957</td>\n",
       "      <td>1839</td>\n",
       "      <td>6439</td>\n",
       "      <td>0.253347</td>\n",
       "      <td>0.174663</td>\n",
       "      <td>208.926217</td>\n",
       "      <td>...</td>\n",
       "      <td>0.119152</td>\n",
       "      <td>0.020909</td>\n",
       "      <td>4.508709</td>\n",
       "      <td>2.233198</td>\n",
       "      <td>96</td>\n",
       "      <td>44545</td>\n",
       "      <td>1798.923336</td>\n",
       "      <td>247448.3108</td>\n",
       "      <td>80335</td>\n",
       "      <td>H</td>\n",
       "    </tr>\n",
       "    <tr>\n",
       "      <th>170</th>\n",
       "      <td>id_171</td>\n",
       "      <td>2140</td>\n",
       "      <td>0.000009</td>\n",
       "      <td>274.728964</td>\n",
       "      <td>234.495802</td>\n",
       "      <td>2053</td>\n",
       "      <td>8487</td>\n",
       "      <td>0.225537</td>\n",
       "      <td>0.174920</td>\n",
       "      <td>254.612383</td>\n",
       "      <td>...</td>\n",
       "      <td>0.174495</td>\n",
       "      <td>0.017640</td>\n",
       "      <td>4.685573</td>\n",
       "      <td>2.806888</td>\n",
       "      <td>84</td>\n",
       "      <td>37560</td>\n",
       "      <td>1725.619941</td>\n",
       "      <td>160664.6464</td>\n",
       "      <td>345835</td>\n",
       "      <td>H</td>\n",
       "    </tr>\n",
       "    <tr>\n",
       "      <th>171</th>\n",
       "      <td>id_172</td>\n",
       "      <td>3830</td>\n",
       "      <td>0.000008</td>\n",
       "      <td>151.536989</td>\n",
       "      <td>171.104693</td>\n",
       "      <td>1287</td>\n",
       "      <td>7352</td>\n",
       "      <td>0.165480</td>\n",
       "      <td>0.161058</td>\n",
       "      <td>161.320841</td>\n",
       "      <td>...</td>\n",
       "      <td>0.114472</td>\n",
       "      <td>0.017194</td>\n",
       "      <td>3.493815</td>\n",
       "      <td>2.510601</td>\n",
       "      <td>88</td>\n",
       "      <td>51675</td>\n",
       "      <td>1915.573488</td>\n",
       "      <td>128727.1241</td>\n",
       "      <td>83445</td>\n",
       "      <td>H</td>\n",
       "    </tr>\n",
       "    <tr>\n",
       "      <th>172</th>\n",
       "      <td>id_173</td>\n",
       "      <td>1760</td>\n",
       "      <td>0.000008</td>\n",
       "      <td>289.518195</td>\n",
       "      <td>196.411138</td>\n",
       "      <td>1674</td>\n",
       "      <td>6946</td>\n",
       "      <td>0.518937</td>\n",
       "      <td>0.202613</td>\n",
       "      <td>242.964666</td>\n",
       "      <td>...</td>\n",
       "      <td>0.114472</td>\n",
       "      <td>0.017194</td>\n",
       "      <td>3.493815</td>\n",
       "      <td>2.510601</td>\n",
       "      <td>88</td>\n",
       "      <td>51675</td>\n",
       "      <td>1915.573488</td>\n",
       "      <td>128727.1241</td>\n",
       "      <td>83445</td>\n",
       "      <td>H</td>\n",
       "    </tr>\n",
       "    <tr>\n",
       "      <th>173</th>\n",
       "      <td>id_174</td>\n",
       "      <td>2875</td>\n",
       "      <td>0.000008</td>\n",
       "      <td>235.769350</td>\n",
       "      <td>178.208024</td>\n",
       "      <td>1838</td>\n",
       "      <td>6560</td>\n",
       "      <td>0.567311</td>\n",
       "      <td>0.147818</td>\n",
       "      <td>206.988687</td>\n",
       "      <td>...</td>\n",
       "      <td>0.114472</td>\n",
       "      <td>0.017194</td>\n",
       "      <td>3.493815</td>\n",
       "      <td>2.510601</td>\n",
       "      <td>88</td>\n",
       "      <td>51675</td>\n",
       "      <td>1915.573488</td>\n",
       "      <td>128727.1241</td>\n",
       "      <td>83445</td>\n",
       "      <td>H</td>\n",
       "    </tr>\n",
       "  </tbody>\n",
       "</table>\n",
       "<p>174 rows × 452 columns</p>\n",
       "</div>"
      ],
      "text/plain": [
       "         ID  air_time1  disp_index1  gmrt_in_air1  gmrt_on_paper1  \\\n",
       "0      id_1       5160     0.000013    120.804174       86.853334   \n",
       "1      id_2      51980     0.000016    115.318238       83.448681   \n",
       "2      id_3       2600     0.000010    229.933997      172.761858   \n",
       "3      id_4       2130     0.000010    369.403342      183.193104   \n",
       "4      id_5       2310     0.000007    257.997131      111.275889   \n",
       "..      ...        ...          ...           ...             ...   \n",
       "169  id_170       2930     0.000010    241.736477      176.115957   \n",
       "170  id_171       2140     0.000009    274.728964      234.495802   \n",
       "171  id_172       3830     0.000008    151.536989      171.104693   \n",
       "172  id_173       1760     0.000008    289.518195      196.411138   \n",
       "173  id_174       2875     0.000008    235.769350      178.208024   \n",
       "\n",
       "     max_x_extension1  max_y_extension1  mean_acc_in_air1  mean_acc_on_paper1  \\\n",
       "0                 957              6601          0.361800            0.217459   \n",
       "1                1694              6998          0.272513            0.144880   \n",
       "2                2333              5802          0.387020            0.181342   \n",
       "3                1756              8159          0.556879            0.164502   \n",
       "4                 987              4732          0.266077            0.145104   \n",
       "..                ...               ...               ...                 ...   \n",
       "169              1839              6439          0.253347            0.174663   \n",
       "170              2053              8487          0.225537            0.174920   \n",
       "171              1287              7352          0.165480            0.161058   \n",
       "172              1674              6946          0.518937            0.202613   \n",
       "173              1838              6560          0.567311            0.147818   \n",
       "\n",
       "     mean_gmrt1  ...  mean_jerk_in_air25  mean_jerk_on_paper25  \\\n",
       "0    103.828754  ...            0.141434              0.024471   \n",
       "1     99.383459  ...            0.049663              0.018368   \n",
       "2    201.347928  ...            0.178194              0.017174   \n",
       "3    276.298223  ...            0.113905              0.019860   \n",
       "4    184.636510  ...            0.121782              0.020872   \n",
       "..          ...  ...                 ...                   ...   \n",
       "169  208.926217  ...            0.119152              0.020909   \n",
       "170  254.612383  ...            0.174495              0.017640   \n",
       "171  161.320841  ...            0.114472              0.017194   \n",
       "172  242.964666  ...            0.114472              0.017194   \n",
       "173  206.988687  ...            0.114472              0.017194   \n",
       "\n",
       "     mean_speed_in_air25  mean_speed_on_paper25  num_of_pendown25  \\\n",
       "0               5.596487               3.184589                71   \n",
       "1               1.665973               0.950249               129   \n",
       "2               4.000781               2.392521                74   \n",
       "3               4.206746               1.613522               123   \n",
       "4               3.319036               1.680629                92   \n",
       "..                   ...                    ...               ...   \n",
       "169             4.508709               2.233198                96   \n",
       "170             4.685573               2.806888                84   \n",
       "171             3.493815               2.510601                88   \n",
       "172             3.493815               2.510601                88   \n",
       "173             3.493815               2.510601                88   \n",
       "\n",
       "     paper_time25  pressure_mean25  pressure_var25  total_time25  class  \n",
       "0           40120      1749.278166     296102.7676        144605      P  \n",
       "1          126700      1504.768272     278744.2850        298640      P  \n",
       "2           45480      1431.443492     144411.7055         79025      P  \n",
       "3           67945      1465.843329     230184.7154        181220      P  \n",
       "4           37285      1841.702561     158290.0255         72575      P  \n",
       "..            ...              ...             ...           ...    ...  \n",
       "169         44545      1798.923336     247448.3108         80335      H  \n",
       "170         37560      1725.619941     160664.6464        345835      H  \n",
       "171         51675      1915.573488     128727.1241         83445      H  \n",
       "172         51675      1915.573488     128727.1241         83445      H  \n",
       "173         51675      1915.573488     128727.1241         83445      H  \n",
       "\n",
       "[174 rows x 452 columns]"
      ]
     },
     "execution_count": 141,
     "metadata": {},
     "output_type": "execute_result"
    }
   ],
   "source": [
    "darwin_data = load_darwin()\n",
    "darwin_data"
   ]
  },
  {
   "attachments": {},
   "cell_type": "markdown",
   "metadata": {},
   "source": [
    "Eliminamos la columna ID, pues es un string que no nos aporta nada"
   ]
  },
  {
   "cell_type": "code",
   "execution_count": null,
   "metadata": {},
   "outputs": [
    {
     "data": {
      "text/html": [
       "<div>\n",
       "<style scoped>\n",
       "    .dataframe tbody tr th:only-of-type {\n",
       "        vertical-align: middle;\n",
       "    }\n",
       "\n",
       "    .dataframe tbody tr th {\n",
       "        vertical-align: top;\n",
       "    }\n",
       "\n",
       "    .dataframe thead th {\n",
       "        text-align: right;\n",
       "    }\n",
       "</style>\n",
       "<table border=\"1\" class=\"dataframe\">\n",
       "  <thead>\n",
       "    <tr style=\"text-align: right;\">\n",
       "      <th></th>\n",
       "      <th>air_time1</th>\n",
       "      <th>disp_index1</th>\n",
       "      <th>gmrt_in_air1</th>\n",
       "      <th>gmrt_on_paper1</th>\n",
       "      <th>max_x_extension1</th>\n",
       "      <th>max_y_extension1</th>\n",
       "      <th>mean_acc_in_air1</th>\n",
       "      <th>mean_acc_on_paper1</th>\n",
       "      <th>mean_gmrt1</th>\n",
       "      <th>mean_jerk_in_air1</th>\n",
       "      <th>...</th>\n",
       "      <th>mean_jerk_in_air25</th>\n",
       "      <th>mean_jerk_on_paper25</th>\n",
       "      <th>mean_speed_in_air25</th>\n",
       "      <th>mean_speed_on_paper25</th>\n",
       "      <th>num_of_pendown25</th>\n",
       "      <th>paper_time25</th>\n",
       "      <th>pressure_mean25</th>\n",
       "      <th>pressure_var25</th>\n",
       "      <th>total_time25</th>\n",
       "      <th>class</th>\n",
       "    </tr>\n",
       "  </thead>\n",
       "  <tbody>\n",
       "    <tr>\n",
       "      <th>0</th>\n",
       "      <td>5160</td>\n",
       "      <td>0.000013</td>\n",
       "      <td>120.804174</td>\n",
       "      <td>86.853334</td>\n",
       "      <td>957</td>\n",
       "      <td>6601</td>\n",
       "      <td>0.361800</td>\n",
       "      <td>0.217459</td>\n",
       "      <td>103.828754</td>\n",
       "      <td>0.051836</td>\n",
       "      <td>...</td>\n",
       "      <td>0.141434</td>\n",
       "      <td>0.024471</td>\n",
       "      <td>5.596487</td>\n",
       "      <td>3.184589</td>\n",
       "      <td>71</td>\n",
       "      <td>40120</td>\n",
       "      <td>1749.278166</td>\n",
       "      <td>296102.7676</td>\n",
       "      <td>144605</td>\n",
       "      <td>P</td>\n",
       "    </tr>\n",
       "    <tr>\n",
       "      <th>1</th>\n",
       "      <td>51980</td>\n",
       "      <td>0.000016</td>\n",
       "      <td>115.318238</td>\n",
       "      <td>83.448681</td>\n",
       "      <td>1694</td>\n",
       "      <td>6998</td>\n",
       "      <td>0.272513</td>\n",
       "      <td>0.144880</td>\n",
       "      <td>99.383459</td>\n",
       "      <td>0.039827</td>\n",
       "      <td>...</td>\n",
       "      <td>0.049663</td>\n",
       "      <td>0.018368</td>\n",
       "      <td>1.665973</td>\n",
       "      <td>0.950249</td>\n",
       "      <td>129</td>\n",
       "      <td>126700</td>\n",
       "      <td>1504.768272</td>\n",
       "      <td>278744.2850</td>\n",
       "      <td>298640</td>\n",
       "      <td>P</td>\n",
       "    </tr>\n",
       "    <tr>\n",
       "      <th>2</th>\n",
       "      <td>2600</td>\n",
       "      <td>0.000010</td>\n",
       "      <td>229.933997</td>\n",
       "      <td>172.761858</td>\n",
       "      <td>2333</td>\n",
       "      <td>5802</td>\n",
       "      <td>0.387020</td>\n",
       "      <td>0.181342</td>\n",
       "      <td>201.347928</td>\n",
       "      <td>0.064220</td>\n",
       "      <td>...</td>\n",
       "      <td>0.178194</td>\n",
       "      <td>0.017174</td>\n",
       "      <td>4.000781</td>\n",
       "      <td>2.392521</td>\n",
       "      <td>74</td>\n",
       "      <td>45480</td>\n",
       "      <td>1431.443492</td>\n",
       "      <td>144411.7055</td>\n",
       "      <td>79025</td>\n",
       "      <td>P</td>\n",
       "    </tr>\n",
       "    <tr>\n",
       "      <th>3</th>\n",
       "      <td>2130</td>\n",
       "      <td>0.000010</td>\n",
       "      <td>369.403342</td>\n",
       "      <td>183.193104</td>\n",
       "      <td>1756</td>\n",
       "      <td>8159</td>\n",
       "      <td>0.556879</td>\n",
       "      <td>0.164502</td>\n",
       "      <td>276.298223</td>\n",
       "      <td>0.090408</td>\n",
       "      <td>...</td>\n",
       "      <td>0.113905</td>\n",
       "      <td>0.019860</td>\n",
       "      <td>4.206746</td>\n",
       "      <td>1.613522</td>\n",
       "      <td>123</td>\n",
       "      <td>67945</td>\n",
       "      <td>1465.843329</td>\n",
       "      <td>230184.7154</td>\n",
       "      <td>181220</td>\n",
       "      <td>P</td>\n",
       "    </tr>\n",
       "    <tr>\n",
       "      <th>4</th>\n",
       "      <td>2310</td>\n",
       "      <td>0.000007</td>\n",
       "      <td>257.997131</td>\n",
       "      <td>111.275889</td>\n",
       "      <td>987</td>\n",
       "      <td>4732</td>\n",
       "      <td>0.266077</td>\n",
       "      <td>0.145104</td>\n",
       "      <td>184.636510</td>\n",
       "      <td>0.037528</td>\n",
       "      <td>...</td>\n",
       "      <td>0.121782</td>\n",
       "      <td>0.020872</td>\n",
       "      <td>3.319036</td>\n",
       "      <td>1.680629</td>\n",
       "      <td>92</td>\n",
       "      <td>37285</td>\n",
       "      <td>1841.702561</td>\n",
       "      <td>158290.0255</td>\n",
       "      <td>72575</td>\n",
       "      <td>P</td>\n",
       "    </tr>\n",
       "    <tr>\n",
       "      <th>...</th>\n",
       "      <td>...</td>\n",
       "      <td>...</td>\n",
       "      <td>...</td>\n",
       "      <td>...</td>\n",
       "      <td>...</td>\n",
       "      <td>...</td>\n",
       "      <td>...</td>\n",
       "      <td>...</td>\n",
       "      <td>...</td>\n",
       "      <td>...</td>\n",
       "      <td>...</td>\n",
       "      <td>...</td>\n",
       "      <td>...</td>\n",
       "      <td>...</td>\n",
       "      <td>...</td>\n",
       "      <td>...</td>\n",
       "      <td>...</td>\n",
       "      <td>...</td>\n",
       "      <td>...</td>\n",
       "      <td>...</td>\n",
       "      <td>...</td>\n",
       "    </tr>\n",
       "    <tr>\n",
       "      <th>169</th>\n",
       "      <td>2930</td>\n",
       "      <td>0.000010</td>\n",
       "      <td>241.736477</td>\n",
       "      <td>176.115957</td>\n",
       "      <td>1839</td>\n",
       "      <td>6439</td>\n",
       "      <td>0.253347</td>\n",
       "      <td>0.174663</td>\n",
       "      <td>208.926217</td>\n",
       "      <td>0.032691</td>\n",
       "      <td>...</td>\n",
       "      <td>0.119152</td>\n",
       "      <td>0.020909</td>\n",
       "      <td>4.508709</td>\n",
       "      <td>2.233198</td>\n",
       "      <td>96</td>\n",
       "      <td>44545</td>\n",
       "      <td>1798.923336</td>\n",
       "      <td>247448.3108</td>\n",
       "      <td>80335</td>\n",
       "      <td>H</td>\n",
       "    </tr>\n",
       "    <tr>\n",
       "      <th>170</th>\n",
       "      <td>2140</td>\n",
       "      <td>0.000009</td>\n",
       "      <td>274.728964</td>\n",
       "      <td>234.495802</td>\n",
       "      <td>2053</td>\n",
       "      <td>8487</td>\n",
       "      <td>0.225537</td>\n",
       "      <td>0.174920</td>\n",
       "      <td>254.612383</td>\n",
       "      <td>0.032059</td>\n",
       "      <td>...</td>\n",
       "      <td>0.174495</td>\n",
       "      <td>0.017640</td>\n",
       "      <td>4.685573</td>\n",
       "      <td>2.806888</td>\n",
       "      <td>84</td>\n",
       "      <td>37560</td>\n",
       "      <td>1725.619941</td>\n",
       "      <td>160664.6464</td>\n",
       "      <td>345835</td>\n",
       "      <td>H</td>\n",
       "    </tr>\n",
       "    <tr>\n",
       "      <th>171</th>\n",
       "      <td>3830</td>\n",
       "      <td>0.000008</td>\n",
       "      <td>151.536989</td>\n",
       "      <td>171.104693</td>\n",
       "      <td>1287</td>\n",
       "      <td>7352</td>\n",
       "      <td>0.165480</td>\n",
       "      <td>0.161058</td>\n",
       "      <td>161.320841</td>\n",
       "      <td>0.022705</td>\n",
       "      <td>...</td>\n",
       "      <td>0.114472</td>\n",
       "      <td>0.017194</td>\n",
       "      <td>3.493815</td>\n",
       "      <td>2.510601</td>\n",
       "      <td>88</td>\n",
       "      <td>51675</td>\n",
       "      <td>1915.573488</td>\n",
       "      <td>128727.1241</td>\n",
       "      <td>83445</td>\n",
       "      <td>H</td>\n",
       "    </tr>\n",
       "    <tr>\n",
       "      <th>172</th>\n",
       "      <td>1760</td>\n",
       "      <td>0.000008</td>\n",
       "      <td>289.518195</td>\n",
       "      <td>196.411138</td>\n",
       "      <td>1674</td>\n",
       "      <td>6946</td>\n",
       "      <td>0.518937</td>\n",
       "      <td>0.202613</td>\n",
       "      <td>242.964666</td>\n",
       "      <td>0.090686</td>\n",
       "      <td>...</td>\n",
       "      <td>0.114472</td>\n",
       "      <td>0.017194</td>\n",
       "      <td>3.493815</td>\n",
       "      <td>2.510601</td>\n",
       "      <td>88</td>\n",
       "      <td>51675</td>\n",
       "      <td>1915.573488</td>\n",
       "      <td>128727.1241</td>\n",
       "      <td>83445</td>\n",
       "      <td>H</td>\n",
       "    </tr>\n",
       "    <tr>\n",
       "      <th>173</th>\n",
       "      <td>2875</td>\n",
       "      <td>0.000008</td>\n",
       "      <td>235.769350</td>\n",
       "      <td>178.208024</td>\n",
       "      <td>1838</td>\n",
       "      <td>6560</td>\n",
       "      <td>0.567311</td>\n",
       "      <td>0.147818</td>\n",
       "      <td>206.988687</td>\n",
       "      <td>0.099555</td>\n",
       "      <td>...</td>\n",
       "      <td>0.114472</td>\n",
       "      <td>0.017194</td>\n",
       "      <td>3.493815</td>\n",
       "      <td>2.510601</td>\n",
       "      <td>88</td>\n",
       "      <td>51675</td>\n",
       "      <td>1915.573488</td>\n",
       "      <td>128727.1241</td>\n",
       "      <td>83445</td>\n",
       "      <td>H</td>\n",
       "    </tr>\n",
       "  </tbody>\n",
       "</table>\n",
       "<p>174 rows × 451 columns</p>\n",
       "</div>"
      ],
      "text/plain": [
       "     air_time1  disp_index1  gmrt_in_air1  gmrt_on_paper1  max_x_extension1  \\\n",
       "0         5160     0.000013    120.804174       86.853334               957   \n",
       "1        51980     0.000016    115.318238       83.448681              1694   \n",
       "2         2600     0.000010    229.933997      172.761858              2333   \n",
       "3         2130     0.000010    369.403342      183.193104              1756   \n",
       "4         2310     0.000007    257.997131      111.275889               987   \n",
       "..         ...          ...           ...             ...               ...   \n",
       "169       2930     0.000010    241.736477      176.115957              1839   \n",
       "170       2140     0.000009    274.728964      234.495802              2053   \n",
       "171       3830     0.000008    151.536989      171.104693              1287   \n",
       "172       1760     0.000008    289.518195      196.411138              1674   \n",
       "173       2875     0.000008    235.769350      178.208024              1838   \n",
       "\n",
       "     max_y_extension1  mean_acc_in_air1  mean_acc_on_paper1  mean_gmrt1  \\\n",
       "0                6601          0.361800            0.217459  103.828754   \n",
       "1                6998          0.272513            0.144880   99.383459   \n",
       "2                5802          0.387020            0.181342  201.347928   \n",
       "3                8159          0.556879            0.164502  276.298223   \n",
       "4                4732          0.266077            0.145104  184.636510   \n",
       "..                ...               ...                 ...         ...   \n",
       "169              6439          0.253347            0.174663  208.926217   \n",
       "170              8487          0.225537            0.174920  254.612383   \n",
       "171              7352          0.165480            0.161058  161.320841   \n",
       "172              6946          0.518937            0.202613  242.964666   \n",
       "173              6560          0.567311            0.147818  206.988687   \n",
       "\n",
       "     mean_jerk_in_air1  ...  mean_jerk_in_air25  mean_jerk_on_paper25  \\\n",
       "0             0.051836  ...            0.141434              0.024471   \n",
       "1             0.039827  ...            0.049663              0.018368   \n",
       "2             0.064220  ...            0.178194              0.017174   \n",
       "3             0.090408  ...            0.113905              0.019860   \n",
       "4             0.037528  ...            0.121782              0.020872   \n",
       "..                 ...  ...                 ...                   ...   \n",
       "169           0.032691  ...            0.119152              0.020909   \n",
       "170           0.032059  ...            0.174495              0.017640   \n",
       "171           0.022705  ...            0.114472              0.017194   \n",
       "172           0.090686  ...            0.114472              0.017194   \n",
       "173           0.099555  ...            0.114472              0.017194   \n",
       "\n",
       "     mean_speed_in_air25  mean_speed_on_paper25  num_of_pendown25  \\\n",
       "0               5.596487               3.184589                71   \n",
       "1               1.665973               0.950249               129   \n",
       "2               4.000781               2.392521                74   \n",
       "3               4.206746               1.613522               123   \n",
       "4               3.319036               1.680629                92   \n",
       "..                   ...                    ...               ...   \n",
       "169             4.508709               2.233198                96   \n",
       "170             4.685573               2.806888                84   \n",
       "171             3.493815               2.510601                88   \n",
       "172             3.493815               2.510601                88   \n",
       "173             3.493815               2.510601                88   \n",
       "\n",
       "     paper_time25  pressure_mean25  pressure_var25  total_time25  class  \n",
       "0           40120      1749.278166     296102.7676        144605      P  \n",
       "1          126700      1504.768272     278744.2850        298640      P  \n",
       "2           45480      1431.443492     144411.7055         79025      P  \n",
       "3           67945      1465.843329     230184.7154        181220      P  \n",
       "4           37285      1841.702561     158290.0255         72575      P  \n",
       "..            ...              ...             ...           ...    ...  \n",
       "169         44545      1798.923336     247448.3108         80335      H  \n",
       "170         37560      1725.619941     160664.6464        345835      H  \n",
       "171         51675      1915.573488     128727.1241         83445      H  \n",
       "172         51675      1915.573488     128727.1241         83445      H  \n",
       "173         51675      1915.573488     128727.1241         83445      H  \n",
       "\n",
       "[174 rows x 451 columns]"
      ]
     },
     "execution_count": 142,
     "metadata": {},
     "output_type": "execute_result"
    }
   ],
   "source": [
    "darwin_data = darwin_data.drop(['ID'], axis=1)\n",
    "darwin_data"
   ]
  },
  {
   "cell_type": "code",
   "execution_count": null,
   "metadata": {},
   "outputs": [
    {
     "data": {
      "text/html": [
       "<div>\n",
       "<style scoped>\n",
       "    .dataframe tbody tr th:only-of-type {\n",
       "        vertical-align: middle;\n",
       "    }\n",
       "\n",
       "    .dataframe tbody tr th {\n",
       "        vertical-align: top;\n",
       "    }\n",
       "\n",
       "    .dataframe thead th {\n",
       "        text-align: right;\n",
       "    }\n",
       "</style>\n",
       "<table border=\"1\" class=\"dataframe\">\n",
       "  <thead>\n",
       "    <tr style=\"text-align: right;\">\n",
       "      <th></th>\n",
       "      <th>air_time1</th>\n",
       "      <th>disp_index1</th>\n",
       "      <th>gmrt_in_air1</th>\n",
       "      <th>gmrt_on_paper1</th>\n",
       "      <th>max_x_extension1</th>\n",
       "      <th>max_y_extension1</th>\n",
       "      <th>mean_acc_in_air1</th>\n",
       "      <th>mean_acc_on_paper1</th>\n",
       "      <th>mean_gmrt1</th>\n",
       "      <th>mean_jerk_in_air1</th>\n",
       "      <th>...</th>\n",
       "      <th>mean_gmrt25</th>\n",
       "      <th>mean_jerk_in_air25</th>\n",
       "      <th>mean_jerk_on_paper25</th>\n",
       "      <th>mean_speed_in_air25</th>\n",
       "      <th>mean_speed_on_paper25</th>\n",
       "      <th>num_of_pendown25</th>\n",
       "      <th>paper_time25</th>\n",
       "      <th>pressure_mean25</th>\n",
       "      <th>pressure_var25</th>\n",
       "      <th>total_time25</th>\n",
       "    </tr>\n",
       "  </thead>\n",
       "  <tbody>\n",
       "    <tr>\n",
       "      <th>count</th>\n",
       "      <td>174.000000</td>\n",
       "      <td>174.000000</td>\n",
       "      <td>174.000000</td>\n",
       "      <td>174.000000</td>\n",
       "      <td>174.000000</td>\n",
       "      <td>174.000000</td>\n",
       "      <td>174.000000</td>\n",
       "      <td>174.000000</td>\n",
       "      <td>174.000000</td>\n",
       "      <td>174.000000</td>\n",
       "      <td>...</td>\n",
       "      <td>174.000000</td>\n",
       "      <td>174.000000</td>\n",
       "      <td>174.000000</td>\n",
       "      <td>174.000000</td>\n",
       "      <td>174.000000</td>\n",
       "      <td>174.000000</td>\n",
       "      <td>174.000000</td>\n",
       "      <td>174.000000</td>\n",
       "      <td>174.000000</td>\n",
       "      <td>1.740000e+02</td>\n",
       "    </tr>\n",
       "    <tr>\n",
       "      <th>mean</th>\n",
       "      <td>5664.166667</td>\n",
       "      <td>0.000010</td>\n",
       "      <td>297.666685</td>\n",
       "      <td>200.504413</td>\n",
       "      <td>1977.965517</td>\n",
       "      <td>7323.896552</td>\n",
       "      <td>0.416374</td>\n",
       "      <td>0.179823</td>\n",
       "      <td>249.085549</td>\n",
       "      <td>0.067556</td>\n",
       "      <td>...</td>\n",
       "      <td>221.360646</td>\n",
       "      <td>0.148286</td>\n",
       "      <td>0.019934</td>\n",
       "      <td>4.472643</td>\n",
       "      <td>2.871613</td>\n",
       "      <td>85.839080</td>\n",
       "      <td>43109.712644</td>\n",
       "      <td>1629.585962</td>\n",
       "      <td>163061.767360</td>\n",
       "      <td>1.642033e+05</td>\n",
       "    </tr>\n",
       "    <tr>\n",
       "      <th>std</th>\n",
       "      <td>12653.772746</td>\n",
       "      <td>0.000003</td>\n",
       "      <td>183.943181</td>\n",
       "      <td>111.629546</td>\n",
       "      <td>1648.306365</td>\n",
       "      <td>2188.290512</td>\n",
       "      <td>0.381837</td>\n",
       "      <td>0.064693</td>\n",
       "      <td>132.698462</td>\n",
       "      <td>0.074776</td>\n",
       "      <td>...</td>\n",
       "      <td>63.762013</td>\n",
       "      <td>0.062207</td>\n",
       "      <td>0.002388</td>\n",
       "      <td>1.501411</td>\n",
       "      <td>0.852809</td>\n",
       "      <td>27.485518</td>\n",
       "      <td>19092.024337</td>\n",
       "      <td>324.142316</td>\n",
       "      <td>56845.610814</td>\n",
       "      <td>4.969397e+05</td>\n",
       "    </tr>\n",
       "    <tr>\n",
       "      <th>min</th>\n",
       "      <td>65.000000</td>\n",
       "      <td>0.000002</td>\n",
       "      <td>28.734515</td>\n",
       "      <td>29.935835</td>\n",
       "      <td>754.000000</td>\n",
       "      <td>561.000000</td>\n",
       "      <td>0.067748</td>\n",
       "      <td>0.096631</td>\n",
       "      <td>41.199445</td>\n",
       "      <td>0.011861</td>\n",
       "      <td>...</td>\n",
       "      <td>69.928033</td>\n",
       "      <td>0.030169</td>\n",
       "      <td>0.014987</td>\n",
       "      <td>1.323565</td>\n",
       "      <td>0.950249</td>\n",
       "      <td>32.000000</td>\n",
       "      <td>15930.000000</td>\n",
       "      <td>474.049462</td>\n",
       "      <td>26984.926660</td>\n",
       "      <td>2.998000e+04</td>\n",
       "    </tr>\n",
       "    <tr>\n",
       "      <th>25%</th>\n",
       "      <td>1697.500000</td>\n",
       "      <td>0.000008</td>\n",
       "      <td>174.153023</td>\n",
       "      <td>136.524742</td>\n",
       "      <td>1362.500000</td>\n",
       "      <td>6124.000000</td>\n",
       "      <td>0.218209</td>\n",
       "      <td>0.146647</td>\n",
       "      <td>161.136182</td>\n",
       "      <td>0.029523</td>\n",
       "      <td>...</td>\n",
       "      <td>178.798382</td>\n",
       "      <td>0.107732</td>\n",
       "      <td>0.018301</td>\n",
       "      <td>3.485934</td>\n",
       "      <td>2.401199</td>\n",
       "      <td>66.000000</td>\n",
       "      <td>32803.750000</td>\n",
       "      <td>1499.112088</td>\n",
       "      <td>120099.046800</td>\n",
       "      <td>5.917500e+04</td>\n",
       "    </tr>\n",
       "    <tr>\n",
       "      <th>50%</th>\n",
       "      <td>2890.000000</td>\n",
       "      <td>0.000009</td>\n",
       "      <td>255.791452</td>\n",
       "      <td>176.494494</td>\n",
       "      <td>1681.000000</td>\n",
       "      <td>6975.500000</td>\n",
       "      <td>0.275184</td>\n",
       "      <td>0.163659</td>\n",
       "      <td>224.445268</td>\n",
       "      <td>0.039233</td>\n",
       "      <td>...</td>\n",
       "      <td>217.431621</td>\n",
       "      <td>0.140483</td>\n",
       "      <td>0.019488</td>\n",
       "      <td>4.510578</td>\n",
       "      <td>2.830672</td>\n",
       "      <td>81.000000</td>\n",
       "      <td>37312.500000</td>\n",
       "      <td>1729.385010</td>\n",
       "      <td>158236.771800</td>\n",
       "      <td>7.611500e+04</td>\n",
       "    </tr>\n",
       "    <tr>\n",
       "      <th>75%</th>\n",
       "      <td>4931.250000</td>\n",
       "      <td>0.000011</td>\n",
       "      <td>358.917885</td>\n",
       "      <td>234.052560</td>\n",
       "      <td>2082.750000</td>\n",
       "      <td>8298.500000</td>\n",
       "      <td>0.442706</td>\n",
       "      <td>0.188879</td>\n",
       "      <td>294.392298</td>\n",
       "      <td>0.071057</td>\n",
       "      <td>...</td>\n",
       "      <td>264.310776</td>\n",
       "      <td>0.199168</td>\n",
       "      <td>0.021134</td>\n",
       "      <td>5.212794</td>\n",
       "      <td>3.335828</td>\n",
       "      <td>101.500000</td>\n",
       "      <td>46533.750000</td>\n",
       "      <td>1865.626974</td>\n",
       "      <td>200921.078475</td>\n",
       "      <td>1.275425e+05</td>\n",
       "    </tr>\n",
       "    <tr>\n",
       "      <th>max</th>\n",
       "      <td>109965.000000</td>\n",
       "      <td>0.000028</td>\n",
       "      <td>1168.328276</td>\n",
       "      <td>865.210522</td>\n",
       "      <td>18602.000000</td>\n",
       "      <td>15783.000000</td>\n",
       "      <td>2.772566</td>\n",
       "      <td>0.627350</td>\n",
       "      <td>836.784702</td>\n",
       "      <td>0.543199</td>\n",
       "      <td>...</td>\n",
       "      <td>437.373267</td>\n",
       "      <td>0.375078</td>\n",
       "      <td>0.029227</td>\n",
       "      <td>10.416715</td>\n",
       "      <td>5.602909</td>\n",
       "      <td>209.000000</td>\n",
       "      <td>139575.000000</td>\n",
       "      <td>1999.775983</td>\n",
       "      <td>352981.850000</td>\n",
       "      <td>5.704200e+06</td>\n",
       "    </tr>\n",
       "  </tbody>\n",
       "</table>\n",
       "<p>8 rows × 450 columns</p>\n",
       "</div>"
      ],
      "text/plain": [
       "           air_time1  disp_index1  gmrt_in_air1  gmrt_on_paper1  \\\n",
       "count     174.000000   174.000000    174.000000      174.000000   \n",
       "mean     5664.166667     0.000010    297.666685      200.504413   \n",
       "std     12653.772746     0.000003    183.943181      111.629546   \n",
       "min        65.000000     0.000002     28.734515       29.935835   \n",
       "25%      1697.500000     0.000008    174.153023      136.524742   \n",
       "50%      2890.000000     0.000009    255.791452      176.494494   \n",
       "75%      4931.250000     0.000011    358.917885      234.052560   \n",
       "max    109965.000000     0.000028   1168.328276      865.210522   \n",
       "\n",
       "       max_x_extension1  max_y_extension1  mean_acc_in_air1  \\\n",
       "count        174.000000        174.000000        174.000000   \n",
       "mean        1977.965517       7323.896552          0.416374   \n",
       "std         1648.306365       2188.290512          0.381837   \n",
       "min          754.000000        561.000000          0.067748   \n",
       "25%         1362.500000       6124.000000          0.218209   \n",
       "50%         1681.000000       6975.500000          0.275184   \n",
       "75%         2082.750000       8298.500000          0.442706   \n",
       "max        18602.000000      15783.000000          2.772566   \n",
       "\n",
       "       mean_acc_on_paper1  mean_gmrt1  mean_jerk_in_air1  ...  mean_gmrt25  \\\n",
       "count          174.000000  174.000000         174.000000  ...   174.000000   \n",
       "mean             0.179823  249.085549           0.067556  ...   221.360646   \n",
       "std              0.064693  132.698462           0.074776  ...    63.762013   \n",
       "min              0.096631   41.199445           0.011861  ...    69.928033   \n",
       "25%              0.146647  161.136182           0.029523  ...   178.798382   \n",
       "50%              0.163659  224.445268           0.039233  ...   217.431621   \n",
       "75%              0.188879  294.392298           0.071057  ...   264.310776   \n",
       "max              0.627350  836.784702           0.543199  ...   437.373267   \n",
       "\n",
       "       mean_jerk_in_air25  mean_jerk_on_paper25  mean_speed_in_air25  \\\n",
       "count          174.000000            174.000000           174.000000   \n",
       "mean             0.148286              0.019934             4.472643   \n",
       "std              0.062207              0.002388             1.501411   \n",
       "min              0.030169              0.014987             1.323565   \n",
       "25%              0.107732              0.018301             3.485934   \n",
       "50%              0.140483              0.019488             4.510578   \n",
       "75%              0.199168              0.021134             5.212794   \n",
       "max              0.375078              0.029227            10.416715   \n",
       "\n",
       "       mean_speed_on_paper25  num_of_pendown25   paper_time25  \\\n",
       "count             174.000000        174.000000     174.000000   \n",
       "mean                2.871613         85.839080   43109.712644   \n",
       "std                 0.852809         27.485518   19092.024337   \n",
       "min                 0.950249         32.000000   15930.000000   \n",
       "25%                 2.401199         66.000000   32803.750000   \n",
       "50%                 2.830672         81.000000   37312.500000   \n",
       "75%                 3.335828        101.500000   46533.750000   \n",
       "max                 5.602909        209.000000  139575.000000   \n",
       "\n",
       "       pressure_mean25  pressure_var25  total_time25  \n",
       "count       174.000000      174.000000  1.740000e+02  \n",
       "mean       1629.585962   163061.767360  1.642033e+05  \n",
       "std         324.142316    56845.610814  4.969397e+05  \n",
       "min         474.049462    26984.926660  2.998000e+04  \n",
       "25%        1499.112088   120099.046800  5.917500e+04  \n",
       "50%        1729.385010   158236.771800  7.611500e+04  \n",
       "75%        1865.626974   200921.078475  1.275425e+05  \n",
       "max        1999.775983   352981.850000  5.704200e+06  \n",
       "\n",
       "[8 rows x 450 columns]"
      ]
     },
     "execution_count": 143,
     "metadata": {},
     "output_type": "execute_result"
    }
   ],
   "source": [
    "darwin_data.describe()"
   ]
  },
  {
   "attachments": {},
   "cell_type": "markdown",
   "metadata": {},
   "source": [
    "Podemos ver que tenemos una muestra balanceada"
   ]
  },
  {
   "cell_type": "code",
   "execution_count": null,
   "metadata": {},
   "outputs": [
    {
     "data": {
      "text/plain": [
       "<AxesSubplot: xlabel='class', ylabel='Count'>"
      ]
     },
     "execution_count": 144,
     "metadata": {},
     "output_type": "execute_result"
    },
    {
     "data": {
      "image/png": "[encoded data removed]",
      "text/plain": [
       "<Figure size 640x480 with 1 Axes>"
      ]
     },
     "metadata": {},
     "output_type": "display_data"
    }
   ],
   "source": [
    "sns.histplot(darwin_data, x='class', hue='class', shrink = 0.8)"
   ]
  },
  {
   "cell_type": "code",
   "execution_count": null,
   "metadata": {},
   "outputs": [],
   "source": [
    "X = darwin_data.loc[:,darwin_data.columns != \"class\"]\n",
    "y = darwin_data[\"class\"]\n",
    "\n",
    "X_train, X_test, y_train, y_test = train_test_split(X, y, test_size=0.3, random_state=45,stratify=y)"
   ]
  },
  {
   "attachments": {},
   "cell_type": "markdown",
   "metadata": {},
   "source": [
    "##### Preproceso\n",
    "\n",
    "Examinamos si hay valores perdidos"
   ]
  },
  {
   "cell_type": "code",
   "execution_count": null,
   "metadata": {},
   "outputs": [
    {
     "data": {
      "text/plain": [
       "air_time1           0\n",
       "num_of_pendown19    0\n",
       "disp_index18        0\n",
       "air_time18          0\n",
       "total_time17        0\n",
       "                   ..\n",
       "gmrt_in_air9        0\n",
       "disp_index9         0\n",
       "air_time9           0\n",
       "total_time8         0\n",
       "total_time25        0\n",
       "Length: 450, dtype: int64"
      ]
     },
     "execution_count": 146,
     "metadata": {},
     "output_type": "execute_result"
    }
   ],
   "source": [
    "X_train.isna().sum().sort_values(ascending=False)"
   ]
  },
  {
   "cell_type": "code",
   "execution_count": null,
   "metadata": {},
   "outputs": [
    {
     "data": {
      "text/plain": [
       "(121, 450)"
      ]
     },
     "execution_count": 147,
     "metadata": {},
     "output_type": "execute_result"
    }
   ],
   "source": [
    "X_train.shape"
   ]
  },
  {
   "cell_type": "code",
   "execution_count": null,
   "metadata": {},
   "outputs": [
    {
     "data": {
      "text/plain": [
       "(53, 450)"
      ]
     },
     "execution_count": 148,
     "metadata": {},
     "output_type": "execute_result"
    }
   ],
   "source": [
    "X_test.shape"
   ]
  },
  {
   "attachments": {},
   "cell_type": "markdown",
   "metadata": {},
   "source": [
    "Vamos a realizar un pequeño análisis antes de proceder a ejecutar el modelo"
   ]
  },
  {
   "cell_type": "code",
   "execution_count": null,
   "metadata": {},
   "outputs": [],
   "source": [
    "scaler = StandardScaler()\n",
    "\n",
    "X_train = scaler.fit_transform(X_train)\n",
    "X_test = scaler.transform(X_test)"
   ]
  },
  {
   "cell_type": "code",
   "execution_count": null,
   "metadata": {},
   "outputs": [],
   "source": [
    "pca = PCA().fit(X_train);"
   ]
  },
  {
   "attachments": {},
   "cell_type": "markdown",
   "metadata": {},
   "source": [
    "Podemos observar que la variancia explicada llega al 80% a partir de bastantes componentes"
   ]
  },
  {
   "cell_type": "code",
   "execution_count": null,
   "metadata": {},
   "outputs": [
    {
     "data": {
      "image/png": "[encoded data removed]",
      "text/plain": [
       "<Figure size 800x600 with 1 Axes>"
      ]
     },
     "metadata": {},
     "output_type": "display_data"
    }
   ],
   "source": [
    "fig = plt.figure(figsize=(8,6));\n",
    "plt.plot(range(1,len(pca.explained_variance_ratio_ )+1),pca.explained_variance_ratio_ ,alpha=0.8,marker='.',label=\"Variancia Explicada\");\n",
    "y_label = plt.ylabel('Variancia explicada');\n",
    "x_label = plt.xlabel('Componentes');\n",
    "plt.plot(range(1,len(pca.explained_variance_ratio_ )+1),\n",
    "         np.cumsum(pca.explained_variance_ratio_),\n",
    "         c='red',marker='.',\n",
    "         label=\"Variancia explicada acumulativa\");\n",
    "plt.legend();\n",
    "plt.title('Porcentaje de variancia explicada por componente');"
   ]
  },
  {
   "attachments": {},
   "cell_type": "markdown",
   "metadata": {},
   "source": [
    "##### Ejecución del modelo"
   ]
  },
  {
   "cell_type": "code",
   "execution_count": null,
   "metadata": {},
   "outputs": [],
   "source": [
    "def save_results(clf, xt, yt, nclf, df):\n",
    "    df.loc[nclf,'test acc'] = accuracy_score(yt, clf.predict(xt))\n",
    "    df.loc[nclf,'precision score (W)'] = precision_score(yt, clf.predict(xt), average='weighted')\n",
    "    df.loc[nclf,'recall score (W)'] = recall_score(yt, clf.predict(xt), average='weighted')\n",
    "    df.loc[nclf,'f1 score (W)'] = f1_score(yt, clf.predict(xt), average='weighted')\n",
    "    return df\n",
    "\n",
    "results_df = pd.DataFrame()\n",
    "results_df_log = pd.DataFrame()"
   ]
  },
  {
   "attachments": {},
   "cell_type": "markdown",
   "metadata": {},
   "source": [
    "A priori con la realización de validación cruzada nos da buenos resultados, procederemos a analizar los resultados del modelo una vez encontrado el mejor estimador"
   ]
  },
  {
   "cell_type": "code",
   "execution_count": null,
   "metadata": {},
   "outputs": [],
   "source": [
    "gnb = GaussianNB()"
   ]
  },
  {
   "cell_type": "code",
   "execution_count": null,
   "metadata": {},
   "outputs": [],
   "source": [
    "param = {'var_smoothing':10**np.linspace(-3,3,100, endpoint=True)}\n",
    "gnb_gs =  GridSearchCV(gnb,param,cv=10, n_jobs=-1, refit=True)\n",
    "gnb_gs.fit(X_train, y_train);"
   ]
  },
  {
   "cell_type": "code",
   "execution_count": null,
   "metadata": {},
   "outputs": [
    {
     "data": {
      "text/html": [
       "<table border=\"1\" class=\"dataframe\">\n",
       "  <thead>\n",
       "    <tr style=\"text-align: right;\">\n",
       "      <th></th>\n",
       "      <th>params</th>\n",
       "      <th>mean_test_score</th>\n",
       "      <th>rank_test_score</th>\n",
       "    </tr>\n",
       "  </thead>\n",
       "  <tbody>\n",
       "    <tr>\n",
       "      <th>39</th>\n",
       "      <td>{'var_smoothing': 0.23101297000831605}</td>\n",
       "      <td>0.884615</td>\n",
       "      <td>1</td>\n",
       "    </tr>\n",
       "    <tr>\n",
       "      <th>37</th>\n",
       "      <td>{'var_smoothing': 0.1747528400007685}</td>\n",
       "      <td>0.884615</td>\n",
       "      <td>1</td>\n",
       "    </tr>\n",
       "    <tr>\n",
       "      <th>38</th>\n",
       "      <td>{'var_smoothing': 0.2009233002565048}</td>\n",
       "      <td>0.876282</td>\n",
       "      <td>3</td>\n",
       "    </tr>\n",
       "    <tr>\n",
       "      <th>36</th>\n",
       "      <td>{'var_smoothing': 0.1519911082952933}</td>\n",
       "      <td>0.876282</td>\n",
       "      <td>3</td>\n",
       "    </tr>\n",
       "    <tr>\n",
       "      <th>27</th>\n",
       "      <td>{'var_smoothing': 0.04328761281083059}</td>\n",
       "      <td>0.876282</td>\n",
       "      <td>5</td>\n",
       "    </tr>\n",
       "  </tbody>\n",
       "</table>"
      ],
      "text/plain": [
       "<IPython.core.display.HTML object>"
      ]
     },
     "metadata": {},
     "output_type": "display_data"
    }
   ],
   "source": [
    "show_html(pd.DataFrame(gnb_gs.cv_results_).loc[:,['params', 'mean_test_score','rank_test_score']].sort_values(by='rank_test_score').head().to_html())"
   ]
  },
  {
   "cell_type": "code",
   "execution_count": null,
   "metadata": {},
   "outputs": [
    {
     "name": "stdout",
     "output_type": "stream",
     "text": [
      "0.8846153846153847\n"
     ]
    }
   ],
   "source": [
    "print(np.mean(cross_val_score(gnb_gs.best_estimator_,X_train,y_train,cv=10)))"
   ]
  },
  {
   "cell_type": "code",
   "execution_count": null,
   "metadata": {},
   "outputs": [
    {
     "name": "stdout",
     "output_type": "stream",
     "text": [
      "              precision    recall  f1-score   support\n",
      "\n",
      "           H       0.77      0.80      0.78        25\n",
      "           P       0.81      0.79      0.80        28\n",
      "\n",
      "    accuracy                           0.79        53\n",
      "   macro avg       0.79      0.79      0.79        53\n",
      "weighted avg       0.79      0.79      0.79        53\n",
      "\n"
     ]
    }
   ],
   "source": [
    "print(classification_report(gnb_gs.best_estimator_.predict(X_test), y_test,target_names=['H', 'P']))\n",
    "results_df = save_results(gnb_gs.best_estimator_, X_test, y_test, 'GNB', results_df)"
   ]
  },
  {
   "attachments": {},
   "cell_type": "markdown",
   "metadata": {},
   "source": [
    "Podemos ver buenos resultados puesto que la tasa de acierto es bastante alta"
   ]
  },
  {
   "cell_type": "code",
   "execution_count": null,
   "metadata": {},
   "outputs": [
    {
     "data": {
      "image/png": "[encoded data removed]",
      "text/plain": [
       "<Figure size 400x400 with 2 Axes>"
      ]
     },
     "metadata": {},
     "output_type": "display_data"
    }
   ],
   "source": [
    "plt.figure(figsize=(4,4));\n",
    "ConfusionMatrixDisplay.from_estimator(gnb_gs.best_estimator_, X_test,y_test, display_labels=['H', 'P'], ax=plt.subplot());"
   ]
  },
  {
   "attachments": {},
   "cell_type": "markdown",
   "metadata": {},
   "source": [
    "#### Apartado b)"
   ]
  },
  {
   "attachments": {},
   "cell_type": "markdown",
   "metadata": {},
   "source": [
    "##### SVC"
   ]
  },
  {
   "attachments": {},
   "cell_type": "markdown",
   "metadata": {},
   "source": [
    "Vamos a buscar los hiperparámetros del modelo para saber cuál es el mejor kernel con sus respectivos grados y gammas, obviamente un modelo lineal no nos aportará mejores resultados en este problema"
   ]
  },
  {
   "cell_type": "code",
   "execution_count": null,
   "metadata": {},
   "outputs": [
    {
     "name": "stdout",
     "output_type": "stream",
     "text": [
      "Hyperparameters: {'C': 8.111308307896872, 'gamma': 0.0001232846739442066, 'kernel': 'rbf'} Average accuracy: 0.89\n"
     ]
    }
   ],
   "source": [
    "Cs = np.logspace(-2, 1, 100)\n",
    "gammas = np.logspace(-9, 5, 100)\n",
    "\n",
    "parametres = [{'kernel': ['rbf'], 'C': Cs, 'gamma': gammas,}, {'kernel': ['poly'], 'C': Cs, 'degree': np.arange(2, 4)}]\n",
    "\n",
    "gs_svc = GridSearchCV(SVC(), \n",
    "                    param_grid = parametres, \n",
    "                    cv = 10, \n",
    "                    scoring = 'accuracy', \n",
    "                    n_jobs=-1)\n",
    "grid_search = gs_svc.fit(X_train, y_train)\n",
    "grid_search.cv_results_\n",
    "\n",
    "print(\"Hyperparameters: %s Average accuracy: %0.2f\"\n",
    "      % (gs_svc.best_params_, gs_svc.best_score_))"
   ]
  },
  {
   "attachments": {},
   "cell_type": "markdown",
   "metadata": {},
   "source": [
    "Hemos podido observar que el mejor kernel para este problema es RBF"
   ]
  },
  {
   "cell_type": "code",
   "execution_count": null,
   "metadata": {},
   "outputs": [
    {
     "name": "stdout",
     "output_type": "stream",
     "text": [
      "0.8923076923076921\n"
     ]
    }
   ],
   "source": [
    "print(np.mean(cross_val_score(gs_svc.best_estimator_,X_train,y_train,cv=10)))"
   ]
  },
  {
   "cell_type": "code",
   "execution_count": null,
   "metadata": {},
   "outputs": [
    {
     "name": "stdout",
     "output_type": "stream",
     "text": [
      "              precision    recall  f1-score   support\n",
      "\n",
      "           H       0.77      0.83      0.80        24\n",
      "           P       0.85      0.79      0.82        29\n",
      "\n",
      "    accuracy                           0.81        53\n",
      "   macro avg       0.81      0.81      0.81        53\n",
      "weighted avg       0.81      0.81      0.81        53\n",
      "\n"
     ]
    }
   ],
   "source": [
    "print(classification_report(gs_svc.best_estimator_.predict(X_test), y_test,target_names=['H', 'P']))\n",
    "results_df = save_results(gs_svc.best_estimator_, X_test, y_test, 'GNB', results_df)"
   ]
  },
  {
   "attachments": {},
   "cell_type": "markdown",
   "metadata": {},
   "source": [
    "Podemos observar una mejoría de la situación pero tampoco demasiada pues solo tenemos un acierto más lo que sube la accuracy un 0.02"
   ]
  },
  {
   "cell_type": "code",
   "execution_count": null,
   "metadata": {},
   "outputs": [
    {
     "data": {
      "image/png": "[encoded data removed]",
      "text/plain": [
       "<Figure size 400x400 with 2 Axes>"
      ]
     },
     "metadata": {},
     "output_type": "display_data"
    }
   ],
   "source": [
    "plt.figure(figsize=(4,4));\n",
    "ConfusionMatrixDisplay.from_estimator(gs_svc.best_estimator_, X_test,y_test, display_labels=['H', 'P'], ax=plt.subplot());"
   ]
  },
  {
   "attachments": {},
   "cell_type": "markdown",
   "metadata": {},
   "source": [
    "#### Apartado c)"
   ]
  },
  {
   "attachments": {},
   "cell_type": "markdown",
   "metadata": {},
   "source": [
    "##### Random forests"
   ]
  },
  {
   "attachments": {},
   "cell_type": "markdown",
   "metadata": {},
   "source": [
    "Seguidamente vamos a entrenar random forests para ver qué resultados nos dan y compararlos con los anteriores modelos"
   ]
  },
  {
   "cell_type": "code",
   "execution_count": null,
   "metadata": {},
   "outputs": [
    {
     "name": "stderr",
     "output_type": "stream",
     "text": [
      "d:\\Programas\\Python3.10.7\\lib\\site-packages\\skopt\\optimizer\\optimizer.py:449: UserWarning: The objective has been evaluated at this point before.\n",
      "  warnings.warn(\"The objective has been evaluated \"\n"
     ]
    }
   ],
   "source": [
    "param = {'n_estimators': [5,10,25,40, 50, 75,100, 200], \n",
    "         'criterion':['gini', 'entropy'], \n",
    "         'max_depth':[None, 1, 2, 3,  5,  8, 9,10,15],\n",
    "         'min_samples_leaf':[1,2,3,5,10]}\n",
    "\n",
    "rf =  RandomForestClassifier(random_state=0)\n",
    "rf_bs =  BayesSearchCV(rf,param,n_iter=40, cv=10, n_jobs=-1, refit=True, random_state=0)\n",
    "rf_bs.fit(X_train, y_train);"
   ]
  },
  {
   "cell_type": "code",
   "execution_count": null,
   "metadata": {},
   "outputs": [
    {
     "data": {
      "text/html": [
       "<table border=\"1\" class=\"dataframe\">\n",
       "  <thead>\n",
       "    <tr style=\"text-align: right;\">\n",
       "      <th></th>\n",
       "      <th>params</th>\n",
       "      <th>mean_test_score</th>\n",
       "      <th>rank_test_score</th>\n",
       "    </tr>\n",
       "  </thead>\n",
       "  <tbody>\n",
       "    <tr>\n",
       "      <th>39</th>\n",
       "      <td>{'criterion': 'gini', 'max_depth': None, 'min_samples_leaf': 3, 'n_estimators': 50}</td>\n",
       "      <td>0.900000</td>\n",
       "      <td>1</td>\n",
       "    </tr>\n",
       "    <tr>\n",
       "      <th>22</th>\n",
       "      <td>{'criterion': 'gini', 'max_depth': 8, 'min_samples_leaf': 3, 'n_estimators': 50}</td>\n",
       "      <td>0.900000</td>\n",
       "      <td>1</td>\n",
       "    </tr>\n",
       "    <tr>\n",
       "      <th>23</th>\n",
       "      <td>{'criterion': 'gini', 'max_depth': 9, 'min_samples_leaf': 3, 'n_estimators': 50}</td>\n",
       "      <td>0.900000</td>\n",
       "      <td>1</td>\n",
       "    </tr>\n",
       "    <tr>\n",
       "      <th>29</th>\n",
       "      <td>{'criterion': 'gini', 'max_depth': 10, 'min_samples_leaf': 3, 'n_estimators': 50}</td>\n",
       "      <td>0.900000</td>\n",
       "      <td>1</td>\n",
       "    </tr>\n",
       "    <tr>\n",
       "      <th>16</th>\n",
       "      <td>{'criterion': 'gini', 'max_depth': 15, 'min_samples_leaf': 1, 'n_estimators': 40}</td>\n",
       "      <td>0.884615</td>\n",
       "      <td>5</td>\n",
       "    </tr>\n",
       "  </tbody>\n",
       "</table>"
      ],
      "text/plain": [
       "<IPython.core.display.HTML object>"
      ]
     },
     "metadata": {},
     "output_type": "display_data"
    }
   ],
   "source": [
    "show_html(pd.DataFrame(rf_bs.cv_results_).loc[:,['params', 'mean_test_score','rank_test_score']].sort_values(by='rank_test_score').head().to_html())"
   ]
  },
  {
   "cell_type": "code",
   "execution_count": null,
   "metadata": {},
   "outputs": [
    {
     "name": "stdout",
     "output_type": "stream",
     "text": [
      "              precision    recall  f1-score   support\n",
      "\n",
      "           H       0.85      0.88      0.86        25\n",
      "           P       0.89      0.86      0.87        28\n",
      "\n",
      "    accuracy                           0.87        53\n",
      "   macro avg       0.87      0.87      0.87        53\n",
      "weighted avg       0.87      0.87      0.87        53\n",
      "\n"
     ]
    }
   ],
   "source": [
    "print(classification_report(rf_bs.predict(X_test), y_test,target_names=['H', 'P']))\n",
    "results_df = save_results(rf_bs, X_test, y_test, 'Random Forest', results_df)"
   ]
  },
  {
   "cell_type": "code",
   "execution_count": null,
   "metadata": {},
   "outputs": [
    {
     "data": {
      "text/plain": [
       "<sklearn.metrics._plot.confusion_matrix.ConfusionMatrixDisplay at 0x1d0f94e4dc0>"
      ]
     },
     "execution_count": 166,
     "metadata": {},
     "output_type": "execute_result"
    },
    {
     "data": {
      "image/png": "[encoded data removed]",
      "text/plain": [
       "<Figure size 400x500 with 2 Axes>"
      ]
     },
     "metadata": {},
     "output_type": "display_data"
    }
   ],
   "source": [
    "plt.figure(figsize=(4,5));\n",
    "ConfusionMatrixDisplay.from_estimator(rf_bs, X_test,y_test, ax=plt.subplot())"
   ]
  },
  {
   "attachments": {},
   "cell_type": "markdown",
   "metadata": {},
   "source": [
    "##### Gradient boosting"
   ]
  },
  {
   "attachments": {},
   "cell_type": "markdown",
   "metadata": {},
   "source": [
    "Seguidamente entrenaremos con gradient boosting"
   ]
  },
  {
   "cell_type": "code",
   "execution_count": null,
   "metadata": {},
   "outputs": [],
   "source": [
    "param = {'n_estimators': [5,10,25,40, 50, 75,100, 200], \n",
    "         'loss':['log_loss', 'exponential'], \n",
    "         'criterion':['friedman_mse', 'squared_error'], \n",
    "         'max_depth':[None, 1, 2, 3,  5,  8, 9,10,15],\n",
    "         'min_samples_leaf':[1,2,3,5,10], \n",
    "         'learning_rate':[0.1,0.5, 1,3, 5, 10, 15]}\n",
    "\n",
    "gb =  GradientBoostingClassifier(random_state=0,n_iter_no_change=5)\n",
    "gb_bs =  BayesSearchCV(gb,param,n_iter=40, cv=10, n_jobs=-1, refit=True, random_state=0)\n",
    "gb_bs.fit(X_train, y_train);"
   ]
  },
  {
   "cell_type": "code",
   "execution_count": null,
   "metadata": {},
   "outputs": [
    {
     "data": {
      "text/html": [
       "<table border=\"1\" class=\"dataframe\">\n",
       "  <thead>\n",
       "    <tr style=\"text-align: right;\">\n",
       "      <th></th>\n",
       "      <th>params</th>\n",
       "      <th>mean_test_score</th>\n",
       "      <th>rank_test_score</th>\n",
       "    </tr>\n",
       "  </thead>\n",
       "  <tbody>\n",
       "    <tr>\n",
       "      <th>19</th>\n",
       "      <td>{'criterion': 'friedman_mse', 'learning_rate': 1.0, 'loss': 'log_loss', 'max_depth': 2, 'min_samples_leaf': 3, 'n_estimators': 40}</td>\n",
       "      <td>0.876923</td>\n",
       "      <td>1</td>\n",
       "    </tr>\n",
       "    <tr>\n",
       "      <th>32</th>\n",
       "      <td>{'criterion': 'squared_error', 'learning_rate': 1.0, 'loss': 'log_loss', 'max_depth': 2, 'min_samples_leaf': 3, 'n_estimators': 40}</td>\n",
       "      <td>0.876923</td>\n",
       "      <td>1</td>\n",
       "    </tr>\n",
       "    <tr>\n",
       "      <th>17</th>\n",
       "      <td>{'criterion': 'friedman_mse', 'learning_rate': 1.0, 'loss': 'log_loss', 'max_depth': 2, 'min_samples_leaf': 3, 'n_estimators': 25}</td>\n",
       "      <td>0.876923</td>\n",
       "      <td>1</td>\n",
       "    </tr>\n",
       "    <tr>\n",
       "      <th>2</th>\n",
       "      <td>{'criterion': 'squared_error', 'learning_rate': 0.1, 'loss': 'exponential', 'max_depth': 2, 'min_samples_leaf': 2, 'n_estimators': 25}</td>\n",
       "      <td>0.867308</td>\n",
       "      <td>4</td>\n",
       "    </tr>\n",
       "    <tr>\n",
       "      <th>34</th>\n",
       "      <td>{'criterion': 'friedman_mse', 'learning_rate': 0.1, 'loss': 'exponential', 'max_depth': 2, 'min_samples_leaf': 1, 'n_estimators': 75}</td>\n",
       "      <td>0.867308</td>\n",
       "      <td>4</td>\n",
       "    </tr>\n",
       "  </tbody>\n",
       "</table>"
      ],
      "text/plain": [
       "<IPython.core.display.HTML object>"
      ]
     },
     "metadata": {},
     "output_type": "display_data"
    }
   ],
   "source": [
    "show_html(pd.DataFrame(gb_bs.cv_results_).loc[:,['params', 'mean_test_score','rank_test_score']].sort_values(by='rank_test_score').head().to_html())"
   ]
  },
  {
   "cell_type": "code",
   "execution_count": null,
   "metadata": {},
   "outputs": [
    {
     "name": "stdout",
     "output_type": "stream",
     "text": [
      "              precision    recall  f1-score   support\n",
      "\n",
      "           H       0.77      0.83      0.80        24\n",
      "           P       0.85      0.79      0.82        29\n",
      "\n",
      "    accuracy                           0.81        53\n",
      "   macro avg       0.81      0.81      0.81        53\n",
      "weighted avg       0.81      0.81      0.81        53\n",
      "\n"
     ]
    }
   ],
   "source": [
    "print(classification_report(gb_bs.predict(X_test), y_test,target_names=['H', 'P']))\n",
    "results_df = save_results(gb_bs, X_test, y_test, 'Gradient Boosting', results_df)"
   ]
  },
  {
   "cell_type": "code",
   "execution_count": null,
   "metadata": {},
   "outputs": [
    {
     "data": {
      "text/plain": [
       "<sklearn.metrics._plot.confusion_matrix.ConfusionMatrixDisplay at 0x1d0f46683d0>"
      ]
     },
     "execution_count": 170,
     "metadata": {},
     "output_type": "execute_result"
    },
    {
     "data": {
      "image/png": "[encoded data removed]",
      "text/plain": [
       "<Figure size 400x400 with 2 Axes>"
      ]
     },
     "metadata": {},
     "output_type": "display_data"
    }
   ],
   "source": [
    "plt.figure(figsize=(4,4));\n",
    "ConfusionMatrixDisplay.from_estimator(gb_bs, X_test,y_test, ax=plt.subplot())"
   ]
  },
  {
   "attachments": {},
   "cell_type": "markdown",
   "metadata": {},
   "source": [
    "Hemos podido observar que el modelo de naive bayes es el que nos da peores resultados, pues este es uno de los modelos más sencillos que hemos utilizado, por otro lado, el modelo que nos da mejores resultados es random forests y gradient boosting es muy similar a svc en este caso."
   ]
  },
  {
   "attachments": {},
   "cell_type": "markdown",
   "metadata": {},
   "source": [
    "#### Apartado d)"
   ]
  },
  {
   "attachments": {},
   "cell_type": "markdown",
   "metadata": {},
   "source": [
    "##### Voting classifier"
   ]
  },
  {
   "attachments": {},
   "cell_type": "markdown",
   "metadata": {},
   "source": [
    "Probaremos con un voting classifier juntando naive bayes gradient boosting y random forest"
   ]
  },
  {
   "cell_type": "code",
   "execution_count": null,
   "metadata": {},
   "outputs": [
    {
     "name": "stdout",
     "output_type": "stream",
     "text": [
      "0.9179487179487179\n"
     ]
    }
   ],
   "source": [
    "vs = VotingClassifier([('gb', gb_bs.best_estimator_),\n",
    "                        ('gnb', gnb_gs.best_estimator_),\n",
    "                        ('rf', rf_bs.best_estimator_)],voting='soft', n_jobs=1)\n",
    "print(np.mean(cross_val_score(vs,X_train,y_train,cv=10)))                             \n",
    "vs.fit(X_train, y_train);"
   ]
  },
  {
   "attachments": {},
   "cell_type": "markdown",
   "metadata": {},
   "source": [
    "Podemos ver buenos resultados y una cierta mejoría"
   ]
  },
  {
   "cell_type": "code",
   "execution_count": null,
   "metadata": {},
   "outputs": [
    {
     "name": "stdout",
     "output_type": "stream",
     "text": [
      "              precision    recall  f1-score   support\n",
      "\n",
      "           H       0.88      0.88      0.88        26\n",
      "           P       0.89      0.89      0.89        27\n",
      "\n",
      "    accuracy                           0.89        53\n",
      "   macro avg       0.89      0.89      0.89        53\n",
      "weighted avg       0.89      0.89      0.89        53\n",
      "\n"
     ]
    }
   ],
   "source": [
    "print(classification_report(vs.predict(X_test), y_test,target_names=['H', 'P']))\n",
    "results_df = save_results(vs, X_test, y_test, 'Voting GB+GNB+RF', results_df)"
   ]
  },
  {
   "cell_type": "code",
   "execution_count": null,
   "metadata": {},
   "outputs": [
    {
     "data": {
      "image/png": "[encoded data removed]",
      "text/plain": [
       "<Figure size 400x400 with 2 Axes>"
      ]
     },
     "metadata": {},
     "output_type": "display_data"
    }
   ],
   "source": [
    "plt.figure(figsize=(4,4));\n",
    "ConfusionMatrixDisplay.from_estimator(vs, X_test,y_test, display_labels=['H', 'P'], ax=plt.subplot());"
   ]
  },
  {
   "attachments": {},
   "cell_type": "markdown",
   "metadata": {},
   "source": [
    "##### Conclusión principal"
   ]
  },
  {
   "attachments": {},
   "cell_type": "markdown",
   "metadata": {},
   "source": [
    "Hemos podido observar que con un voting classifier mejoramos un poco los resultados de nuestro modelo, siendo esto producente y podemos observar que la unión de tres modelos nos ayuda a desempatar en caso de empate"
   ]
  }
 ],
 "metadata": {
  "kernelspec": {
   "display_name": "Python 3",
   "language": "python",
   "name": "python3"
  },
  "language_info": {
   "codemirror_mode": {
    "name": "ipython",
    "version": 3
   },
   "file_extension": ".py",
   "mimetype": "text/x-python",
   "name": "python",
   "nbconvert_exporter": "python",
   "pygments_lexer": "ipython3",
   "version": "3.10.7 (tags/v3.10.7:6cc6b13, Sep  5 2022, 14:08:36) [MSC v.1933 64 bit (AMD64)]"
  },
  "orig_nbformat": 4,
  "vscode": {
   "interpreter": {
    "hash": "19cb8e40392df2a53875753c3935dc49710f6efd52edf25b857f5d36c4b5ea25"
   }
  }
 },
 "nbformat": 4,
 "nbformat_minor": 2
}
